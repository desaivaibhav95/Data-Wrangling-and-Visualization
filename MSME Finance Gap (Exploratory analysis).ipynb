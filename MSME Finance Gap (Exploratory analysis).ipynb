{
 "cells": [
  {
   "cell_type": "markdown",
   "metadata": {},
   "source": [
    "Installing libraries and reading the data from the CSV file on our system"
   ]
  },
  {
   "cell_type": "code",
   "execution_count": 1,
   "metadata": {
    "scrolled": false
   },
   "outputs": [
    {
     "data": {
      "text/html": [
       "<div>\n",
       "<style scoped>\n",
       "    .dataframe tbody tr th:only-of-type {\n",
       "        vertical-align: middle;\n",
       "    }\n",
       "\n",
       "    .dataframe tbody tr th {\n",
       "        vertical-align: top;\n",
       "    }\n",
       "\n",
       "    .dataframe thead th {\n",
       "        text-align: right;\n",
       "    }\n",
       "</style>\n",
       "<table border=\"1\" class=\"dataframe\">\n",
       "  <thead>\n",
       "    <tr style=\"text-align: right;\">\n",
       "      <th></th>\n",
       "      <th>Country</th>\n",
       "      <th>Region</th>\n",
       "      <th>Incomelevel</th>\n",
       "      <th>Number_of_Micro</th>\n",
       "      <th>% Micro Female Option 1</th>\n",
       "      <th>% Micro Female Option 2</th>\n",
       "      <th>Number of Micro - Men Option 1</th>\n",
       "      <th>Number of Micro - Men Option 2</th>\n",
       "      <th>Number of Micro - Women Option 1</th>\n",
       "      <th>Number of Micro - Women Option 2</th>\n",
       "      <th>...</th>\n",
       "      <th>Potential Demand / GDP</th>\n",
       "      <th>Finance Gap / GDP</th>\n",
       "      <th>Finance gap / Current Volume</th>\n",
       "      <th>Micro Women Gap</th>\n",
       "      <th>Micro Men Gap</th>\n",
       "      <th>SME Women Gap</th>\n",
       "      <th>SME Men Gap</th>\n",
       "      <th>Informal2007</th>\n",
       "      <th>Informal Potential Demand</th>\n",
       "      <th>Informal as % of Formal</th>\n",
       "    </tr>\n",
       "  </thead>\n",
       "  <tbody>\n",
       "    <tr>\n",
       "      <th>0</th>\n",
       "      <td>Afghanistan</td>\n",
       "      <td>South Asia</td>\n",
       "      <td>Low income</td>\n",
       "      <td>60154</td>\n",
       "      <td>1.18</td>\n",
       "      <td>1.18</td>\n",
       "      <td>59446</td>\n",
       "      <td>59446</td>\n",
       "      <td>708.0</td>\n",
       "      <td>708.0</td>\n",
       "      <td>...</td>\n",
       "      <td>24.60</td>\n",
       "      <td>24.43</td>\n",
       "      <td>14675.42</td>\n",
       "      <td>NaN</td>\n",
       "      <td>1.728057e+09</td>\n",
       "      <td>1.135159e+08</td>\n",
       "      <td>2.849051e+09</td>\n",
       "      <td>0.000</td>\n",
       "      <td>NaN</td>\n",
       "      <td>NaN</td>\n",
       "    </tr>\n",
       "    <tr>\n",
       "      <th>1</th>\n",
       "      <td>Albania</td>\n",
       "      <td>Europe &amp; Central Asia</td>\n",
       "      <td>Upper middle income</td>\n",
       "      <td>71371</td>\n",
       "      <td>12.45</td>\n",
       "      <td>11.59</td>\n",
       "      <td>62487</td>\n",
       "      <td>63096</td>\n",
       "      <td>8884.0</td>\n",
       "      <td>8275.0</td>\n",
       "      <td>...</td>\n",
       "      <td>24.07</td>\n",
       "      <td>9.41</td>\n",
       "      <td>64.21</td>\n",
       "      <td>14149574.0</td>\n",
       "      <td>2.478031e+08</td>\n",
       "      <td>3.954253e+07</td>\n",
       "      <td>7.764751e+08</td>\n",
       "      <td>0.329</td>\n",
       "      <td>1.351753e+09</td>\n",
       "      <td>49.03</td>\n",
       "    </tr>\n",
       "    <tr>\n",
       "      <th>2</th>\n",
       "      <td>Angola</td>\n",
       "      <td>Sub-Saharan Africa</td>\n",
       "      <td>Upper middle income</td>\n",
       "      <td>19371</td>\n",
       "      <td>46.40</td>\n",
       "      <td>46.40</td>\n",
       "      <td>10383</td>\n",
       "      <td>10383</td>\n",
       "      <td>8988.0</td>\n",
       "      <td>8988.0</td>\n",
       "      <td>...</td>\n",
       "      <td>35.94</td>\n",
       "      <td>33.30</td>\n",
       "      <td>1262.58</td>\n",
       "      <td>247329950.0</td>\n",
       "      <td>6.545553e+08</td>\n",
       "      <td>8.796690e+09</td>\n",
       "      <td>2.447953e+10</td>\n",
       "      <td>0.421</td>\n",
       "      <td>2.681975e+10</td>\n",
       "      <td>72.71</td>\n",
       "    </tr>\n",
       "    <tr>\n",
       "      <th>3</th>\n",
       "      <td>Antigua and Barbuda</td>\n",
       "      <td>Latin America &amp; Caribbean</td>\n",
       "      <td>High income</td>\n",
       "      <td>2292</td>\n",
       "      <td>17.45</td>\n",
       "      <td>17.45</td>\n",
       "      <td>1892</td>\n",
       "      <td>1892</td>\n",
       "      <td>400.0</td>\n",
       "      <td>400.0</td>\n",
       "      <td>...</td>\n",
       "      <td>29.71</td>\n",
       "      <td>22.17</td>\n",
       "      <td>293.94</td>\n",
       "      <td>13267828.0</td>\n",
       "      <td>3.398107e+07</td>\n",
       "      <td>1.333624e+07</td>\n",
       "      <td>2.270007e+08</td>\n",
       "      <td>0.000</td>\n",
       "      <td>NaN</td>\n",
       "      <td>NaN</td>\n",
       "    </tr>\n",
       "    <tr>\n",
       "      <th>4</th>\n",
       "      <td>Argentina</td>\n",
       "      <td>Latin America &amp; Caribbean</td>\n",
       "      <td>Upper middle income</td>\n",
       "      <td>418661</td>\n",
       "      <td>25.64</td>\n",
       "      <td>25.64</td>\n",
       "      <td>311337</td>\n",
       "      <td>311337</td>\n",
       "      <td>107324.0</td>\n",
       "      <td>107324.0</td>\n",
       "      <td>...</td>\n",
       "      <td>17.00</td>\n",
       "      <td>14.73</td>\n",
       "      <td>648.63</td>\n",
       "      <td>921843447.0</td>\n",
       "      <td>1.836416e+10</td>\n",
       "      <td>1.756847e+09</td>\n",
       "      <td>6.484106e+10</td>\n",
       "      <td>0.230</td>\n",
       "      <td>2.960867e+10</td>\n",
       "      <td>29.87</td>\n",
       "    </tr>\n",
       "  </tbody>\n",
       "</table>\n",
       "<p>5 rows × 66 columns</p>\n",
       "</div>"
      ],
      "text/plain": [
       "               Country                     Region          Incomelevel  \\\n",
       "0          Afghanistan                 South Asia           Low income   \n",
       "1              Albania      Europe & Central Asia  Upper middle income   \n",
       "2               Angola         Sub-Saharan Africa  Upper middle income   \n",
       "3  Antigua and Barbuda  Latin America & Caribbean          High income   \n",
       "4            Argentina  Latin America & Caribbean  Upper middle income   \n",
       "\n",
       "   Number_of_Micro  % Micro Female Option 1  % Micro Female Option 2  \\\n",
       "0            60154                     1.18                     1.18   \n",
       "1            71371                    12.45                    11.59   \n",
       "2            19371                    46.40                    46.40   \n",
       "3             2292                    17.45                    17.45   \n",
       "4           418661                    25.64                    25.64   \n",
       "\n",
       "   Number of Micro - Men Option 1  Number of Micro - Men Option 2  \\\n",
       "0                           59446                           59446   \n",
       "1                           62487                           63096   \n",
       "2                           10383                           10383   \n",
       "3                            1892                            1892   \n",
       "4                          311337                          311337   \n",
       "\n",
       "   Number of Micro - Women Option 1  Number of Micro - Women Option 2  ...  \\\n",
       "0                             708.0                             708.0  ...   \n",
       "1                            8884.0                            8275.0  ...   \n",
       "2                            8988.0                            8988.0  ...   \n",
       "3                             400.0                             400.0  ...   \n",
       "4                          107324.0                          107324.0  ...   \n",
       "\n",
       "   Potential Demand / GDP  Finance Gap / GDP  Finance gap / Current Volume  \\\n",
       "0                   24.60              24.43                      14675.42   \n",
       "1                   24.07               9.41                         64.21   \n",
       "2                   35.94              33.30                       1262.58   \n",
       "3                   29.71              22.17                        293.94   \n",
       "4                   17.00              14.73                        648.63   \n",
       "\n",
       "   Micro Women Gap  Micro Men Gap  SME Women Gap   SME Men Gap  Informal2007  \\\n",
       "0              NaN   1.728057e+09   1.135159e+08  2.849051e+09         0.000   \n",
       "1       14149574.0   2.478031e+08   3.954253e+07  7.764751e+08         0.329   \n",
       "2      247329950.0   6.545553e+08   8.796690e+09  2.447953e+10         0.421   \n",
       "3       13267828.0   3.398107e+07   1.333624e+07  2.270007e+08         0.000   \n",
       "4      921843447.0   1.836416e+10   1.756847e+09  6.484106e+10         0.230   \n",
       "\n",
       "   Informal Potential Demand  Informal as % of Formal  \n",
       "0                        NaN                      NaN  \n",
       "1               1.351753e+09                    49.03  \n",
       "2               2.681975e+10                    72.71  \n",
       "3                        NaN                      NaN  \n",
       "4               2.960867e+10                    29.87  \n",
       "\n",
       "[5 rows x 66 columns]"
      ]
     },
     "execution_count": 1,
     "metadata": {},
     "output_type": "execute_result"
    }
   ],
   "source": [
    "import pandas as pd\n",
    "import numpy as np\n",
    "\n",
    "df = pd.read_csv(\"D:\\MSME Finance Gap\\MSME_Finance_Gap.csv\", thousands = ',')\n",
    "df.head()"
   ]
  },
  {
   "cell_type": "code",
   "execution_count": 2,
   "metadata": {},
   "outputs": [
    {
     "data": {
      "text/html": [
       "<div>\n",
       "<style scoped>\n",
       "    .dataframe tbody tr th:only-of-type {\n",
       "        vertical-align: middle;\n",
       "    }\n",
       "\n",
       "    .dataframe tbody tr th {\n",
       "        vertical-align: top;\n",
       "    }\n",
       "\n",
       "    .dataframe thead th {\n",
       "        text-align: right;\n",
       "    }\n",
       "</style>\n",
       "<table border=\"1\" class=\"dataframe\">\n",
       "  <thead>\n",
       "    <tr style=\"text-align: right;\">\n",
       "      <th></th>\n",
       "      <th>Country</th>\n",
       "      <th>Region</th>\n",
       "      <th>Incomelevel</th>\n",
       "      <th>Number_of_Micro</th>\n",
       "      <th>% Micro Female Option 1</th>\n",
       "      <th>% Micro Female Option 2</th>\n",
       "      <th>Number of Micro - Men Option 1</th>\n",
       "      <th>Number of Micro - Men Option 2</th>\n",
       "      <th>Number of Micro - Women Option 1</th>\n",
       "      <th>Number of Micro - Women Option 2</th>\n",
       "      <th>...</th>\n",
       "      <th>Potential Demand / GDP</th>\n",
       "      <th>Finance Gap / GDP</th>\n",
       "      <th>Finance gap / Current Volume</th>\n",
       "      <th>Micro Women Gap</th>\n",
       "      <th>Micro Men Gap</th>\n",
       "      <th>SME Women Gap</th>\n",
       "      <th>SME Men Gap</th>\n",
       "      <th>Informal2007</th>\n",
       "      <th>Informal Potential Demand</th>\n",
       "      <th>Informal as % of Formal</th>\n",
       "    </tr>\n",
       "  </thead>\n",
       "  <tbody>\n",
       "    <tr>\n",
       "      <th>0</th>\n",
       "      <td>Afghanistan</td>\n",
       "      <td>South Asia</td>\n",
       "      <td>Low income</td>\n",
       "      <td>60154</td>\n",
       "      <td>1.18</td>\n",
       "      <td>1.18</td>\n",
       "      <td>59446</td>\n",
       "      <td>59446</td>\n",
       "      <td>708.0</td>\n",
       "      <td>708.0</td>\n",
       "      <td>...</td>\n",
       "      <td>24.60</td>\n",
       "      <td>24.43</td>\n",
       "      <td>14675.42</td>\n",
       "      <td>0.0</td>\n",
       "      <td>1.728057e+09</td>\n",
       "      <td>1.135159e+08</td>\n",
       "      <td>2.849051e+09</td>\n",
       "      <td>0.000</td>\n",
       "      <td>0.000000e+00</td>\n",
       "      <td>0.00</td>\n",
       "    </tr>\n",
       "    <tr>\n",
       "      <th>1</th>\n",
       "      <td>Albania</td>\n",
       "      <td>Europe &amp; Central Asia</td>\n",
       "      <td>Upper middle income</td>\n",
       "      <td>71371</td>\n",
       "      <td>12.45</td>\n",
       "      <td>11.59</td>\n",
       "      <td>62487</td>\n",
       "      <td>63096</td>\n",
       "      <td>8884.0</td>\n",
       "      <td>8275.0</td>\n",
       "      <td>...</td>\n",
       "      <td>24.07</td>\n",
       "      <td>9.41</td>\n",
       "      <td>64.21</td>\n",
       "      <td>14149574.0</td>\n",
       "      <td>2.478031e+08</td>\n",
       "      <td>3.954253e+07</td>\n",
       "      <td>7.764751e+08</td>\n",
       "      <td>0.329</td>\n",
       "      <td>1.351753e+09</td>\n",
       "      <td>49.03</td>\n",
       "    </tr>\n",
       "    <tr>\n",
       "      <th>2</th>\n",
       "      <td>Angola</td>\n",
       "      <td>Sub-Saharan Africa</td>\n",
       "      <td>Upper middle income</td>\n",
       "      <td>19371</td>\n",
       "      <td>46.40</td>\n",
       "      <td>46.40</td>\n",
       "      <td>10383</td>\n",
       "      <td>10383</td>\n",
       "      <td>8988.0</td>\n",
       "      <td>8988.0</td>\n",
       "      <td>...</td>\n",
       "      <td>35.94</td>\n",
       "      <td>33.30</td>\n",
       "      <td>1262.58</td>\n",
       "      <td>247329950.0</td>\n",
       "      <td>6.545553e+08</td>\n",
       "      <td>8.796690e+09</td>\n",
       "      <td>2.447953e+10</td>\n",
       "      <td>0.421</td>\n",
       "      <td>2.681975e+10</td>\n",
       "      <td>72.71</td>\n",
       "    </tr>\n",
       "    <tr>\n",
       "      <th>3</th>\n",
       "      <td>Antigua and Barbuda</td>\n",
       "      <td>Latin America &amp; Caribbean</td>\n",
       "      <td>High income</td>\n",
       "      <td>2292</td>\n",
       "      <td>17.45</td>\n",
       "      <td>17.45</td>\n",
       "      <td>1892</td>\n",
       "      <td>1892</td>\n",
       "      <td>400.0</td>\n",
       "      <td>400.0</td>\n",
       "      <td>...</td>\n",
       "      <td>29.71</td>\n",
       "      <td>22.17</td>\n",
       "      <td>293.94</td>\n",
       "      <td>13267828.0</td>\n",
       "      <td>3.398107e+07</td>\n",
       "      <td>1.333624e+07</td>\n",
       "      <td>2.270007e+08</td>\n",
       "      <td>0.000</td>\n",
       "      <td>0.000000e+00</td>\n",
       "      <td>0.00</td>\n",
       "    </tr>\n",
       "    <tr>\n",
       "      <th>4</th>\n",
       "      <td>Argentina</td>\n",
       "      <td>Latin America &amp; Caribbean</td>\n",
       "      <td>Upper middle income</td>\n",
       "      <td>418661</td>\n",
       "      <td>25.64</td>\n",
       "      <td>25.64</td>\n",
       "      <td>311337</td>\n",
       "      <td>311337</td>\n",
       "      <td>107324.0</td>\n",
       "      <td>107324.0</td>\n",
       "      <td>...</td>\n",
       "      <td>17.00</td>\n",
       "      <td>14.73</td>\n",
       "      <td>648.63</td>\n",
       "      <td>921843447.0</td>\n",
       "      <td>1.836416e+10</td>\n",
       "      <td>1.756847e+09</td>\n",
       "      <td>6.484106e+10</td>\n",
       "      <td>0.230</td>\n",
       "      <td>2.960867e+10</td>\n",
       "      <td>29.87</td>\n",
       "    </tr>\n",
       "  </tbody>\n",
       "</table>\n",
       "<p>5 rows × 66 columns</p>\n",
       "</div>"
      ],
      "text/plain": [
       "               Country                     Region          Incomelevel  \\\n",
       "0          Afghanistan                 South Asia           Low income   \n",
       "1              Albania      Europe & Central Asia  Upper middle income   \n",
       "2               Angola         Sub-Saharan Africa  Upper middle income   \n",
       "3  Antigua and Barbuda  Latin America & Caribbean          High income   \n",
       "4            Argentina  Latin America & Caribbean  Upper middle income   \n",
       "\n",
       "   Number_of_Micro  % Micro Female Option 1  % Micro Female Option 2  \\\n",
       "0            60154                     1.18                     1.18   \n",
       "1            71371                    12.45                    11.59   \n",
       "2            19371                    46.40                    46.40   \n",
       "3             2292                    17.45                    17.45   \n",
       "4           418661                    25.64                    25.64   \n",
       "\n",
       "   Number of Micro - Men Option 1  Number of Micro - Men Option 2  \\\n",
       "0                           59446                           59446   \n",
       "1                           62487                           63096   \n",
       "2                           10383                           10383   \n",
       "3                            1892                            1892   \n",
       "4                          311337                          311337   \n",
       "\n",
       "   Number of Micro - Women Option 1  Number of Micro - Women Option 2  ...  \\\n",
       "0                             708.0                             708.0  ...   \n",
       "1                            8884.0                            8275.0  ...   \n",
       "2                            8988.0                            8988.0  ...   \n",
       "3                             400.0                             400.0  ...   \n",
       "4                          107324.0                          107324.0  ...   \n",
       "\n",
       "   Potential Demand / GDP  Finance Gap / GDP  Finance gap / Current Volume  \\\n",
       "0                   24.60              24.43                      14675.42   \n",
       "1                   24.07               9.41                         64.21   \n",
       "2                   35.94              33.30                       1262.58   \n",
       "3                   29.71              22.17                        293.94   \n",
       "4                   17.00              14.73                        648.63   \n",
       "\n",
       "   Micro Women Gap  Micro Men Gap  SME Women Gap   SME Men Gap  Informal2007  \\\n",
       "0              0.0   1.728057e+09   1.135159e+08  2.849051e+09         0.000   \n",
       "1       14149574.0   2.478031e+08   3.954253e+07  7.764751e+08         0.329   \n",
       "2      247329950.0   6.545553e+08   8.796690e+09  2.447953e+10         0.421   \n",
       "3       13267828.0   3.398107e+07   1.333624e+07  2.270007e+08         0.000   \n",
       "4      921843447.0   1.836416e+10   1.756847e+09  6.484106e+10         0.230   \n",
       "\n",
       "   Informal Potential Demand  Informal as % of Formal  \n",
       "0               0.000000e+00                     0.00  \n",
       "1               1.351753e+09                    49.03  \n",
       "2               2.681975e+10                    72.71  \n",
       "3               0.000000e+00                     0.00  \n",
       "4               2.960867e+10                    29.87  \n",
       "\n",
       "[5 rows x 66 columns]"
      ]
     },
     "execution_count": 2,
     "metadata": {},
     "output_type": "execute_result"
    }
   ],
   "source": [
    "#Replacing all the NaN values by Zero\n",
    "df.fillna(0, inplace = True)\n",
    "df.head()"
   ]
  },
  {
   "cell_type": "code",
   "execution_count": 3,
   "metadata": {
    "scrolled": true
   },
   "outputs": [
    {
     "data": {
      "text/html": [
       "<div>\n",
       "<style scoped>\n",
       "    .dataframe tbody tr th:only-of-type {\n",
       "        vertical-align: middle;\n",
       "    }\n",
       "\n",
       "    .dataframe tbody tr th {\n",
       "        vertical-align: top;\n",
       "    }\n",
       "\n",
       "    .dataframe thead th {\n",
       "        text-align: right;\n",
       "    }\n",
       "</style>\n",
       "<table border=\"1\" class=\"dataframe\">\n",
       "  <thead>\n",
       "    <tr style=\"text-align: right;\">\n",
       "      <th></th>\n",
       "      <th>Number_of_Micro</th>\n",
       "      <th>Number of Micro - Men Option 1</th>\n",
       "      <th>Number of Micro - Men Option 2</th>\n",
       "      <th>Number of Micro - Women Option 1</th>\n",
       "      <th>Number of Micro - Women Option 2</th>\n",
       "      <th>Micro_Fully Constrained</th>\n",
       "      <th>Micro_Partly Constrained</th>\n",
       "      <th>Micro_Unconstrained</th>\n",
       "      <th>Number of SMEs</th>\n",
       "      <th>Number of SMEs - Men Option 1</th>\n",
       "      <th>...</th>\n",
       "      <th>SME: Potential Demand</th>\n",
       "      <th>Finance gap</th>\n",
       "      <th>Micro: Finance Gap</th>\n",
       "      <th>SME: Finance Gap</th>\n",
       "      <th>GDP[2015]</th>\n",
       "      <th>Micro Men Gap</th>\n",
       "      <th>Micro Women Gap</th>\n",
       "      <th>SME Men Gap</th>\n",
       "      <th>SME Women Gap</th>\n",
       "      <th>Informal Potential Demand</th>\n",
       "    </tr>\n",
       "  </thead>\n",
       "  <tbody>\n",
       "    <tr>\n",
       "      <th>0</th>\n",
       "      <td>60154</td>\n",
       "      <td>59446</td>\n",
       "      <td>59446</td>\n",
       "      <td>708</td>\n",
       "      <td>708</td>\n",
       "      <td>23579</td>\n",
       "      <td>8722</td>\n",
       "      <td>27853</td>\n",
       "      <td>15710</td>\n",
       "      <td>15226</td>\n",
       "      <td>...</td>\n",
       "      <td>2994529700</td>\n",
       "      <td>4690624693</td>\n",
       "      <td>1728057460</td>\n",
       "      <td>2962567233</td>\n",
       "      <td>19199438848</td>\n",
       "      <td>1728057460</td>\n",
       "      <td>0</td>\n",
       "      <td>2849051343</td>\n",
       "      <td>113515890</td>\n",
       "      <td>0</td>\n",
       "    </tr>\n",
       "    <tr>\n",
       "      <th>1</th>\n",
       "      <td>71371</td>\n",
       "      <td>62487</td>\n",
       "      <td>63096</td>\n",
       "      <td>8884</td>\n",
       "      <td>8275</td>\n",
       "      <td>6976</td>\n",
       "      <td>2008</td>\n",
       "      <td>62387</td>\n",
       "      <td>6736</td>\n",
       "      <td>6369</td>\n",
       "      <td>...</td>\n",
       "      <td>2142190906</td>\n",
       "      <td>1077970254</td>\n",
       "      <td>261952650</td>\n",
       "      <td>816017604</td>\n",
       "      <td>11455595520</td>\n",
       "      <td>247803075</td>\n",
       "      <td>14149574</td>\n",
       "      <td>776475070</td>\n",
       "      <td>39542534</td>\n",
       "      <td>1351752541</td>\n",
       "    </tr>\n",
       "    <tr>\n",
       "      <th>2</th>\n",
       "      <td>19371</td>\n",
       "      <td>10383</td>\n",
       "      <td>10383</td>\n",
       "      <td>8988</td>\n",
       "      <td>8988</td>\n",
       "      <td>8483</td>\n",
       "      <td>2416</td>\n",
       "      <td>8472</td>\n",
       "      <td>8232</td>\n",
       "      <td>5731</td>\n",
       "      <td>...</td>\n",
       "      <td>35983232048</td>\n",
       "      <td>34178102486</td>\n",
       "      <td>901885205</td>\n",
       "      <td>33276217281</td>\n",
       "      <td>102643105792</td>\n",
       "      <td>654555255</td>\n",
       "      <td>247329950</td>\n",
       "      <td>24479527361</td>\n",
       "      <td>8796689920</td>\n",
       "      <td>26819748468</td>\n",
       "    </tr>\n",
       "    <tr>\n",
       "      <th>3</th>\n",
       "      <td>2292</td>\n",
       "      <td>1892</td>\n",
       "      <td>1892</td>\n",
       "      <td>400</td>\n",
       "      <td>400</td>\n",
       "      <td>28</td>\n",
       "      <td>521</td>\n",
       "      <td>1744</td>\n",
       "      <td>738</td>\n",
       "      <td>620</td>\n",
       "      <td>...</td>\n",
       "      <td>329693272</td>\n",
       "      <td>287585857</td>\n",
       "      <td>47248899</td>\n",
       "      <td>240336957</td>\n",
       "      <td>1297285376</td>\n",
       "      <td>33981071</td>\n",
       "      <td>13267828</td>\n",
       "      <td>227000723</td>\n",
       "      <td>13336235</td>\n",
       "      <td>0</td>\n",
       "    </tr>\n",
       "    <tr>\n",
       "      <th>4</th>\n",
       "      <td>418661</td>\n",
       "      <td>311337</td>\n",
       "      <td>311337</td>\n",
       "      <td>107324</td>\n",
       "      <td>107324</td>\n",
       "      <td>135167</td>\n",
       "      <td>203573</td>\n",
       "      <td>79921</td>\n",
       "      <td>171120</td>\n",
       "      <td>156499</td>\n",
       "      <td>...</td>\n",
       "      <td>77651507740</td>\n",
       "      <td>85883903135</td>\n",
       "      <td>19285998625</td>\n",
       "      <td>66597904509</td>\n",
       "      <td>583168557056</td>\n",
       "      <td>18364155178</td>\n",
       "      <td>921843447</td>\n",
       "      <td>64841057700</td>\n",
       "      <td>1756846809</td>\n",
       "      <td>29608668675</td>\n",
       "    </tr>\n",
       "  </tbody>\n",
       "</table>\n",
       "<p>5 rows × 38 columns</p>\n",
       "</div>"
      ],
      "text/plain": [
       "   Number_of_Micro  Number of Micro - Men Option 1  \\\n",
       "0            60154                           59446   \n",
       "1            71371                           62487   \n",
       "2            19371                           10383   \n",
       "3             2292                            1892   \n",
       "4           418661                          311337   \n",
       "\n",
       "   Number of Micro - Men Option 2  Number of Micro - Women Option 1  \\\n",
       "0                           59446                               708   \n",
       "1                           63096                              8884   \n",
       "2                           10383                              8988   \n",
       "3                            1892                               400   \n",
       "4                          311337                            107324   \n",
       "\n",
       "   Number of Micro - Women Option 2  Micro_Fully Constrained  \\\n",
       "0                               708                    23579   \n",
       "1                              8275                     6976   \n",
       "2                              8988                     8483   \n",
       "3                               400                       28   \n",
       "4                            107324                   135167   \n",
       "\n",
       "   Micro_Partly Constrained  Micro_Unconstrained  Number of SMEs  \\\n",
       "0                      8722                27853           15710   \n",
       "1                      2008                62387            6736   \n",
       "2                      2416                 8472            8232   \n",
       "3                       521                 1744             738   \n",
       "4                    203573                79921          171120   \n",
       "\n",
       "   Number of SMEs - Men Option 1  ...  SME: Potential Demand  Finance gap  \\\n",
       "0                          15226  ...             2994529700   4690624693   \n",
       "1                           6369  ...             2142190906   1077970254   \n",
       "2                           5731  ...            35983232048  34178102486   \n",
       "3                            620  ...              329693272    287585857   \n",
       "4                         156499  ...            77651507740  85883903135   \n",
       "\n",
       "   Micro: Finance Gap  SME: Finance Gap     GDP[2015]  Micro Men Gap  \\\n",
       "0          1728057460        2962567233   19199438848     1728057460   \n",
       "1           261952650         816017604   11455595520      247803075   \n",
       "2           901885205       33276217281  102643105792      654555255   \n",
       "3            47248899         240336957    1297285376       33981071   \n",
       "4         19285998625       66597904509  583168557056    18364155178   \n",
       "\n",
       "   Micro Women Gap  SME Men Gap  SME Women Gap  Informal Potential Demand  \n",
       "0                0   2849051343      113515890                          0  \n",
       "1         14149574    776475070       39542534                 1351752541  \n",
       "2        247329950  24479527361     8796689920                26819748468  \n",
       "3         13267828    227000723       13336235                          0  \n",
       "4        921843447  64841057700     1756846809                29608668675  \n",
       "\n",
       "[5 rows x 38 columns]"
      ]
     },
     "execution_count": 3,
     "metadata": {},
     "output_type": "execute_result"
    }
   ],
   "source": [
    "# Downcasting the columns from float to integer type that were converted to float by the thousands parameter of the read_csv method\n",
    "integer_cols = ['Number_of_Micro', 'Number of Micro - Men Option 1', 'Number of Micro - Men Option 2', 'Number of Micro - Women Option 1', 'Number of Micro - Women Option 2', 'Micro_Fully Constrained', 'Micro_Partly Constrained', 'Micro_Unconstrained', 'Number of SMEs', 'Number of SMEs - Men Option 1', 'Number of SMEs - Men Option 2', 'Number of SMEs - Women Option 1', 'Number of SMEs - Women Option 2', 'SME_Fully Constrained',\n",
    "                'SME_Partly Constrained', 'SME_Unconstrained', 'Male_Fully Constrained', 'Male_Partly Constrained', 'Male_Unconstrained', 'Female_Fully Constrained', 'Female_Partly Constrained', 'Female_Unconstrained', 'Number of MSMEs', 'Current Volume', 'Micro: Current Volume', 'SME: Current Volume', 'Potential Demand', 'Micro: Potential Demand', 'SME: Potential Demand', 'Finance gap', 'Micro: Finance Gap', 'SME: Finance Gap',\n",
    "                'GDP[2015]', 'Micro Men Gap', 'Micro Women Gap', 'SME Men Gap', 'SME Women Gap', 'Informal Potential Demand']\n",
    "df[integer_cols].astype(np.int64).head()"
   ]
  },
  {
   "cell_type": "code",
   "execution_count": 4,
   "metadata": {},
   "outputs": [
    {
     "data": {
      "text/plain": [
       "0                      South Asia\n",
       "1           Europe & Central Asia\n",
       "2              Sub-Saharan Africa\n",
       "3       Latin America & Caribbean\n",
       "4       Latin America & Caribbean\n",
       "5           Europe & Central Asia\n",
       "6           Europe & Central Asia\n",
       "7       Latin America & Caribbean\n",
       "8                      South Asia\n",
       "9       Latin America & Caribbean\n",
       "10          Europe & Central Asia\n",
       "11      Latin America & Caribbean\n",
       "12             Sub-Saharan Africa\n",
       "13                     South Asia\n",
       "14      Latin America & Caribbean\n",
       "15          Europe & Central Asia\n",
       "16             Sub-Saharan Africa\n",
       "17      Latin America & Caribbean\n",
       "18          Europe & Central Asia\n",
       "19             Sub-Saharan Africa\n",
       "20             Sub-Saharan Africa\n",
       "21            East Asia & Pacific\n",
       "22             Sub-Saharan Africa\n",
       "23             Sub-Saharan Africa\n",
       "24             Sub-Saharan Africa\n",
       "25             Sub-Saharan Africa\n",
       "26      Latin America & Caribbean\n",
       "27            East Asia & Pacific\n",
       "28      Latin America & Caribbean\n",
       "29             Sub-Saharan Africa\n",
       "30      Latin America & Caribbean\n",
       "31             Sub-Saharan Africa\n",
       "32          Europe & Central Asia\n",
       "33          Europe & Central Asia\n",
       "34     Middle East & North Africa\n",
       "35      Latin America & Caribbean\n",
       "36      Latin America & Caribbean\n",
       "37      Latin America & Caribbean\n",
       "38     Middle East & North Africa\n",
       "39             Sub-Saharan Africa\n",
       "40          Europe & Central Asia\n",
       "41             Sub-Saharan Africa\n",
       "42            East Asia & Pacific\n",
       "43             Sub-Saharan Africa\n",
       "44          Europe & Central Asia\n",
       "45             Sub-Saharan Africa\n",
       "46      Latin America & Caribbean\n",
       "47      Latin America & Caribbean\n",
       "48             Sub-Saharan Africa\n",
       "49             Sub-Saharan Africa\n",
       "50      Latin America & Caribbean\n",
       "51      Latin America & Caribbean\n",
       "52          Europe & Central Asia\n",
       "53          Europe & Central Asia\n",
       "54                     South Asia\n",
       "55            East Asia & Pacific\n",
       "56     Middle East & North Africa\n",
       "57      Latin America & Caribbean\n",
       "58     Middle East & North Africa\n",
       "59          Europe & Central Asia\n",
       "60             Sub-Saharan Africa\n",
       "61          Europe & Central Asia\n",
       "62          Europe & Central Asia\n",
       "63            East Asia & Pacific\n",
       "64     Middle East & North Africa\n",
       "65             Sub-Saharan Africa\n",
       "66          Europe & Central Asia\n",
       "67          Europe & Central Asia\n",
       "68             Sub-Saharan Africa\n",
       "69             Sub-Saharan Africa\n",
       "70            East Asia & Pacific\n",
       "71             Sub-Saharan Africa\n",
       "72             Sub-Saharan Africa\n",
       "73             Sub-Saharan Africa\n",
       "74      Latin America & Caribbean\n",
       "75            East Asia & Pacific\n",
       "76          Europe & Central Asia\n",
       "77            East Asia & Pacific\n",
       "78          Europe & Central Asia\n",
       "79     Middle East & North Africa\n",
       "80             Sub-Saharan Africa\n",
       "81            East Asia & Pacific\n",
       "82             Sub-Saharan Africa\n",
       "83                     South Asia\n",
       "84      Latin America & Caribbean\n",
       "85             Sub-Saharan Africa\n",
       "86             Sub-Saharan Africa\n",
       "87                     South Asia\n",
       "88      Latin America & Caribbean\n",
       "89            East Asia & Pacific\n",
       "90      Latin America & Caribbean\n",
       "91      Latin America & Caribbean\n",
       "92            East Asia & Pacific\n",
       "93          Europe & Central Asia\n",
       "94          Europe & Central Asia\n",
       "95          Europe & Central Asia\n",
       "96             Sub-Saharan Africa\n",
       "97             Sub-Saharan Africa\n",
       "98            East Asia & Pacific\n",
       "99             Sub-Saharan Africa\n",
       "100         Europe & Central Asia\n",
       "101         Europe & Central Asia\n",
       "102         Europe & Central Asia\n",
       "103           East Asia & Pacific\n",
       "104            Sub-Saharan Africa\n",
       "105            Sub-Saharan Africa\n",
       "106                    South Asia\n",
       "107     Latin America & Caribbean\n",
       "108     Latin America & Caribbean\n",
       "109     Latin America & Caribbean\n",
       "110     Latin America & Caribbean\n",
       "111            Sub-Saharan Africa\n",
       "112         Europe & Central Asia\n",
       "113            Sub-Saharan Africa\n",
       "114           East Asia & Pacific\n",
       "115           East Asia & Pacific\n",
       "116            Sub-Saharan Africa\n",
       "117           East Asia & Pacific\n",
       "118     Latin America & Caribbean\n",
       "119    Middle East & North Africa\n",
       "120         Europe & Central Asia\n",
       "121            Sub-Saharan Africa\n",
       "122         Europe & Central Asia\n",
       "123     Latin America & Caribbean\n",
       "124         Europe & Central Asia\n",
       "125           East Asia & Pacific\n",
       "126     Latin America & Caribbean\n",
       "127           East Asia & Pacific\n",
       "128    Middle East & North Africa\n",
       "129    Middle East & North Africa\n",
       "130            Sub-Saharan Africa\n",
       "131            Sub-Saharan Africa\n",
       "132                         World\n",
       "133           East Asia & Pacific\n",
       "134         Europe & Central Asia\n",
       "135     Latin America & Caribbean\n",
       "136    Middle East & North Africa\n",
       "137                    South Asia\n",
       "138            Sub-Saharan Africa\n",
       "Name: Region, dtype: object"
      ]
     },
     "execution_count": 4,
     "metadata": {},
     "output_type": "execute_result"
    }
   ],
   "source": [
    "pd.set_option('display.max_rows', None)\n",
    "df['Region']"
   ]
  },
  {
   "cell_type": "code",
   "execution_count": 5,
   "metadata": {},
   "outputs": [],
   "source": [
    "# Dropping the row \"World\" from the dataframe using its index value\n",
    "df.drop([132], inplace = True)"
   ]
  },
  {
   "cell_type": "code",
   "execution_count": 6,
   "metadata": {
    "scrolled": false
   },
   "outputs": [
    {
     "data": {
      "text/plain": [
       "Region\n",
       "East Asia & Pacific           97207387\n",
       "Europe & Central Asia         22595691\n",
       "Latin America & Caribbean     52360182\n",
       "Middle East & North Africa    10769424\n",
       "South Asia                    14489230\n",
       "Sub-Saharan Africa            85327603\n",
       "Name: Number_of_Micro, dtype: int32"
      ]
     },
     "execution_count": 6,
     "metadata": {},
     "output_type": "execute_result"
    }
   ],
   "source": [
    "# Grouping the median number of micro-enterprises by region \n",
    "df.groupby('Region').Number_of_Micro.sum().astype(int)"
   ]
  },
  {
   "cell_type": "code",
   "execution_count": 7,
   "metadata": {},
   "outputs": [
    {
     "data": {
      "image/png": "[encoded data removed]",
      "text/plain": [
       "<Figure size 720x432 with 1 Axes>"
      ]
     },
     "metadata": {
      "needs_background": "light"
     },
     "output_type": "display_data"
    }
   ],
   "source": [
    "#Plotting the above result in form of a simple bar chart\n",
    "import matplotlib.pyplot as plt\n",
    "%matplotlib inline\n",
    "df.groupby('Region').Number_of_Micro.sum().astype(int).plot(kind = 'bar',\n",
    "                                                            figsize = (10,6),\n",
    "                                                            title = 'Region wise distribution of Micro Enterprises')\n",
    "plt.xlabel('Region')\n",
    "plt.ylabel('Mean no. of Micro Enterprises')\n",
    "plt.show()"
   ]
  },
  {
   "cell_type": "code",
   "execution_count": 8,
   "metadata": {},
   "outputs": [
    {
     "data": {
      "text/plain": [
       "Incomelevel\n",
       "High income               94611\n",
       "Low income                11508\n",
       "Lower middle income      106415\n",
       "Upper middle income       74928\n",
       "Various                18721125\n",
       "Name: Number_of_Micro, dtype: int32"
      ]
     },
     "execution_count": 8,
     "metadata": {},
     "output_type": "execute_result"
    }
   ],
   "source": [
    "#Grouping the median Number of Micro enterprises by the income level of the country\n",
    "df.groupby('Incomelevel').Number_of_Micro.median().astype(int)"
   ]
  },
  {
   "cell_type": "code",
   "execution_count": 20,
   "metadata": {},
   "outputs": [
    {
     "data": {
      "image/png": "[encoded data removed]",
      "text/plain": [
       "<Figure size 720x432 with 1 Axes>"
      ]
     },
     "metadata": {
      "needs_background": "light"
     },
     "output_type": "display_data"
    }
   ],
   "source": [
    "#Plotting the above result by the income level of the country in a bar chart\n",
    "df.groupby('Incomelevel').Number_of_Micro.median().astype(int).plot(kind = 'bar', figsize = (10,6), color = 'g')\n",
    "plt.xlabel('Income Level')\n",
    "plt.ylabel('Mean no. of Micro Enterprises')\n",
    "plt.title('Distribution of Micro Enterprises by Income level of countries')\n",
    "x1,x2,y1,y2 = plt.axis()\n",
    "plt.axis((x1,x2,0,110000))\n",
    "plt.show()"
   ]
  },
  {
   "cell_type": "code",
   "execution_count": 10,
   "metadata": {
    "scrolled": true
   },
   "outputs": [
    {
     "data": {
      "text/plain": [
       "Region\n",
       "East Asia & Pacific           1.370708e+12\n",
       "Europe & Central Asia         2.594017e+11\n",
       "Latin America & Caribbean     3.323182e+11\n",
       "Middle East & North Africa    1.529847e+11\n",
       "South Asia                    6.633379e+11\n",
       "Sub-Saharan Africa            7.564102e+10\n",
       "Name: GDP[2015], dtype: float64"
      ]
     },
     "execution_count": 10,
     "metadata": {},
     "output_type": "execute_result"
    }
   ],
   "source": [
    "#Computing the average gdp(2015) by region\n",
    "df.groupby(['Region'])['GDP[2015]'].mean()"
   ]
  },
  {
   "cell_type": "code",
   "execution_count": 21,
   "metadata": {},
   "outputs": [
    {
     "data": {
      "image/png": "[encoded data removed]",
      "text/plain": [
       "<Figure size 720x432 with 1 Axes>"
      ]
     },
     "metadata": {
      "needs_background": "light"
     },
     "output_type": "display_data"
    }
   ],
   "source": [
    "#Plotting the average gdp by region by means of a bar chart\n",
    "df.groupby(['Region'])['GDP[2015]'].mean().plot(kind = 'bar', figsize = (10,6), color = 'r')\n",
    "plt.xlabel('Region')\n",
    "plt.ylabel('avg gdp')\n",
    "plt.title('Region wise avg. gdp distibution')\n",
    "x1,x2,y1,y2 = plt.axis()\n",
    "plt.axis((x1,x2,5e+10,1.5e+12))\n",
    "plt.show()"
   ]
  },
  {
   "cell_type": "code",
   "execution_count": 12,
   "metadata": {},
   "outputs": [
    {
     "data": {
      "text/plain": [
       "0               Low income\n",
       "1      Upper middle income\n",
       "2      Upper middle income\n",
       "3              High income\n",
       "4      Upper middle income\n",
       "5      Lower middle income\n",
       "6      Upper middle income\n",
       "7              High income\n",
       "8      Lower middle income\n",
       "9              High income\n",
       "10     Upper middle income\n",
       "11     Upper middle income\n",
       "12              Low income\n",
       "13     Lower middle income\n",
       "14     Lower middle income\n",
       "15     Upper middle income\n",
       "16     Upper middle income\n",
       "17     Upper middle income\n",
       "18     Upper middle income\n",
       "19              Low income\n",
       "20              Low income\n",
       "21     Lower middle income\n",
       "22     Lower middle income\n",
       "23     Lower middle income\n",
       "24              Low income\n",
       "25              Low income\n",
       "26             High income\n",
       "27     Upper middle income\n",
       "28     Upper middle income\n",
       "29              Low income\n",
       "30     Upper middle income\n",
       "31     Lower middle income\n",
       "32             High income\n",
       "33             High income\n",
       "34     Lower middle income\n",
       "35     Upper middle income\n",
       "36     Upper middle income\n",
       "37     Upper middle income\n",
       "38     Lower middle income\n",
       "39              Low income\n",
       "40             High income\n",
       "41              Low income\n",
       "42     Upper middle income\n",
       "43              Low income\n",
       "44     Upper middle income\n",
       "45     Lower middle income\n",
       "46     Upper middle income\n",
       "47     Lower middle income\n",
       "48              Low income\n",
       "49              Low income\n",
       "50     Upper middle income\n",
       "51     Lower middle income\n",
       "52             High income\n",
       "53             High income\n",
       "54     Lower middle income\n",
       "55     Lower middle income\n",
       "56     Upper middle income\n",
       "57     Upper middle income\n",
       "58     Upper middle income\n",
       "59     Upper middle income\n",
       "60     Lower middle income\n",
       "61     Lower middle income\n",
       "62     Lower middle income\n",
       "63     Lower middle income\n",
       "64     Upper middle income\n",
       "65     Lower middle income\n",
       "66             High income\n",
       "67     Upper middle income\n",
       "68              Low income\n",
       "69              Low income\n",
       "70     Upper middle income\n",
       "71              Low income\n",
       "72     Lower middle income\n",
       "73     Upper middle income\n",
       "74     Upper middle income\n",
       "75     Lower middle income\n",
       "76     Lower middle income\n",
       "77     Lower middle income\n",
       "78     Upper middle income\n",
       "79     Lower middle income\n",
       "80              Low income\n",
       "81     Lower middle income\n",
       "82     Upper middle income\n",
       "83              Low income\n",
       "84     Lower middle income\n",
       "85              Low income\n",
       "86     Lower middle income\n",
       "87     Lower middle income\n",
       "88     Upper middle income\n",
       "89     Lower middle income\n",
       "90     Upper middle income\n",
       "91     Upper middle income\n",
       "92     Lower middle income\n",
       "93             High income\n",
       "94     Upper middle income\n",
       "95     Upper middle income\n",
       "96     Lower middle income\n",
       "97              Low income\n",
       "98     Lower middle income\n",
       "99              Low income\n",
       "100    Upper middle income\n",
       "101            High income\n",
       "102            High income\n",
       "103    Lower middle income\n",
       "104    Upper middle income\n",
       "105             Low income\n",
       "106    Lower middle income\n",
       "107            High income\n",
       "108    Upper middle income\n",
       "109    Upper middle income\n",
       "110    Upper middle income\n",
       "111    Lower middle income\n",
       "112    Lower middle income\n",
       "113             Low income\n",
       "114    Upper middle income\n",
       "115    Lower middle income\n",
       "116             Low income\n",
       "117    Lower middle income\n",
       "118            High income\n",
       "119    Lower middle income\n",
       "120    Upper middle income\n",
       "121             Low income\n",
       "122    Lower middle income\n",
       "123            High income\n",
       "124    Lower middle income\n",
       "125    Lower middle income\n",
       "126    Upper middle income\n",
       "127    Lower middle income\n",
       "128    Lower middle income\n",
       "129    Lower middle income\n",
       "130    Lower middle income\n",
       "131             Low income\n",
       "133                Various\n",
       "134                Various\n",
       "135                Various\n",
       "136                Various\n",
       "137                Various\n",
       "138                Various\n",
       "Name: Incomelevel, dtype: object"
      ]
     },
     "execution_count": 12,
     "metadata": {},
     "output_type": "execute_result"
    }
   ],
   "source": [
    "pd.set_option('display.max_rows', None)\n",
    "df['Incomelevel']"
   ]
  },
  {
   "cell_type": "code",
   "execution_count": 13,
   "metadata": {},
   "outputs": [],
   "source": [
    "df.drop([133,134,135,136,137,138], inplace = True)"
   ]
  },
  {
   "cell_type": "code",
   "execution_count": 14,
   "metadata": {},
   "outputs": [
    {
     "data": {
      "text/plain": [
       "Incomelevel\n",
       "High income            8.645824e+10\n",
       "Low income             1.352602e+10\n",
       "Lower middle income    1.208709e+11\n",
       "Upper middle income    4.456294e+11\n",
       "Name: GDP[2015], dtype: float64"
      ]
     },
     "execution_count": 14,
     "metadata": {},
     "output_type": "execute_result"
    }
   ],
   "source": [
    "# Computing average gdp by income level of the country\n",
    "df.groupby(['Incomelevel'])['GDP[2015]'].mean()"
   ]
  },
  {
   "cell_type": "markdown",
   "metadata": {},
   "source": [
    "Plotting the average gdp (as of 2015) by grouping the countries according to their income level"
   ]
  },
  {
   "cell_type": "code",
   "execution_count": 22,
   "metadata": {},
   "outputs": [
    {
     "data": {
      "image/png": "[encoded data removed]",
      "text/plain": [
       "<Figure size 720x432 with 1 Axes>"
      ]
     },
     "metadata": {
      "needs_background": "light"
     },
     "output_type": "display_data"
    }
   ],
   "source": [
    "#Plotting the average gdp[2015] by income level of the country\n",
    "df.groupby(['Incomelevel'])['GDP[2015]'].mean().plot(kind = 'bar', figsize = (10,6), color = 'y')\n",
    "plt.xlabel('Income level')\n",
    "plt.ylabel('avg gdp value')\n",
    "plt.title('Average gdp by income level of the country')\n",
    "x1,x2,y1,y2 = plt.axis()\n",
    "plt.axis((x1,x2,1e+10, 5e+11))\n",
    "plt.show()"
   ]
  },
  {
   "cell_type": "markdown",
   "metadata": {},
   "source": [
    "Finance Gap by Region"
   ]
  },
  {
   "cell_type": "code",
   "execution_count": 23,
   "metadata": {},
   "outputs": [
    {
     "data": {
      "text/plain": [
       "Text(0, 0.5, 'Amount(in USD)')"
      ]
     },
     "execution_count": 23,
     "metadata": {},
     "output_type": "execute_result"
    },
    {
     "data": {
      "image/png": "[encoded data removed]",
      "text/plain": [
       "<Figure size 720x432 with 1 Axes>"
      ]
     },
     "metadata": {
      "needs_background": "light"
     },
     "output_type": "display_data"
    }
   ],
   "source": [
    "df.groupby(['Region'])['Finance gap'].sum().plot(kind = 'bar', figsize= (10,6), title = \"Finance Gap by region\", color = 'm')\n",
    "plt.ylabel('Amount(in USD)')"
   ]
  },
  {
   "cell_type": "markdown",
   "metadata": {},
   "source": [
    "Micro and SME Finance Gap by Region"
   ]
  },
  {
   "cell_type": "code",
   "execution_count": 17,
   "metadata": {},
   "outputs": [
    {
     "data": {
      "text/plain": [
       "Text(0, 0.5, 'Amount(in USD)')"
      ]
     },
     "execution_count": 17,
     "metadata": {},
     "output_type": "execute_result"
    },
    {
     "data": {
      "image/png": "[encoded data removed]",
      "text/plain": [
       "<Figure size 864x432 with 1 Axes>"
      ]
     },
     "metadata": {
      "needs_background": "light"
     },
     "output_type": "display_data"
    }
   ],
   "source": [
    "MG = df.groupby(['Region'])['Micro: Finance Gap'].sum()\n",
    "SG = df.groupby(['Region'])['SME: Finance Gap'].sum()\n",
    "# Putting them in a pandas dataframe and plotting them\n",
    "pd.DataFrame({'Micro: Finance Gap':MG,\n",
    "            'SME: Finance Gap':SG}).plot(kind = 'bar', \n",
    "                                         figsize= (12,6),\n",
    "                                         title = 'Regionwise Micro and SME Finance Gap contribution to total Finance Gap')\n",
    "plt.ylabel('Amount(in USD)')"
   ]
  },
  {
   "cell_type": "markdown",
   "metadata": {},
   "source": [
    "Finance Gap  by Income Level of countries"
   ]
  },
  {
   "cell_type": "code",
   "execution_count": 18,
   "metadata": {},
   "outputs": [
    {
     "data": {
      "text/plain": [
       "Text(0, 0.5, 'Amount(in USD)')"
      ]
     },
     "execution_count": 18,
     "metadata": {},
     "output_type": "execute_result"
    },
    {
     "data": {
      "image/png": "[encoded data removed]",
      "text/plain": [
       "<Figure size 720x432 with 1 Axes>"
      ]
     },
     "metadata": {
      "needs_background": "light"
     },
     "output_type": "display_data"
    }
   ],
   "source": [
    "df.groupby(['Incomelevel'])['Finance gap'].sum().plot(kind = 'bar', figsize= (10,6), title = \"Finance Gap by Income level\")\n",
    "plt.ylabel('Amount(in USD)')"
   ]
  },
  {
   "cell_type": "markdown",
   "metadata": {},
   "source": [
    "Comparing Micro and SME Finance Gap by Income Level of countries"
   ]
  },
  {
   "cell_type": "code",
   "execution_count": 19,
   "metadata": {},
   "outputs": [
    {
     "data": {
      "text/plain": [
       "Text(0, 0.5, 'Amount(in USD)')"
      ]
     },
     "execution_count": 19,
     "metadata": {},
     "output_type": "execute_result"
    },
    {
     "data": {
      "image/png": "[encoded data removed]",
      "text/plain": [
       "<Figure size 864x432 with 1 Axes>"
      ]
     },
     "metadata": {
      "needs_background": "light"
     },
     "output_type": "display_data"
    }
   ],
   "source": [
    "MG = df.groupby(['Incomelevel'])['Micro: Finance Gap'].sum()\n",
    "SG = df.groupby(['Incomelevel'])['SME: Finance Gap'].sum()\n",
    "# Putting them in a pandas dataframe and plotting them\n",
    "pd.DataFrame({'Micro: Finance Gap':MG,\n",
    "            'SME: Finance Gap':SG}).plot(kind = 'bar', \n",
    "                                         figsize= (12,6),\n",
    "                                         title = 'Micro and SME Finance Gap contribution to total Finance Gap w.r.t Income level')\n",
    "plt.ylabel('Amount(in USD)')"
   ]
  }
 ],
 "metadata": {
  "kernelspec": {
   "display_name": "Python 3",
   "language": "python",
   "name": "python3"
  },
  "language_info": {
   "codemirror_mode": {
    "name": "ipython",
    "version": 3
   },
   "file_extension": ".py",
   "mimetype": "text/x-python",
   "name": "python",
   "nbconvert_exporter": "python",
   "pygments_lexer": "ipython3",
   "version": "3.7.3"
  }
 },
 "nbformat": 4,
 "nbformat_minor": 2
}
