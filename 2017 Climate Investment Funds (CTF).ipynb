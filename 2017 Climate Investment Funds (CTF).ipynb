{
 "cells": [
  {
   "cell_type": "markdown",
   "metadata": {},
   "source": [
    "Installing dependencies/libraries"
   ]
  },
  {
   "cell_type": "code",
   "execution_count": 1,
   "metadata": {},
   "outputs": [],
   "source": [
    "import numpy as np\n",
    "import pandas as pd\n",
    "import json"
   ]
  },
  {
   "cell_type": "markdown",
   "metadata": {},
   "source": [
    "Reading our data using World Bank API directly into the pandas dataframe format"
   ]
  },
  {
   "cell_type": "code",
   "execution_count": 2,
   "metadata": {},
   "outputs": [],
   "source": [
    "df = pd.read_json('https://finances.worldbank.org/resource/kjmm-jfbk.json')"
   ]
  },
  {
   "cell_type": "code",
   "execution_count": 3,
   "metadata": {},
   "outputs": [
    {
     "data": {
      "text/html": [
       "<div>\n",
       "<style scoped>\n",
       "    .dataframe tbody tr th:only-of-type {\n",
       "        vertical-align: middle;\n",
       "    }\n",
       "\n",
       "    .dataframe tbody tr th {\n",
       "        vertical-align: top;\n",
       "    }\n",
       "\n",
       "    .dataframe thead th {\n",
       "        text-align: right;\n",
       "    }\n",
       "</style>\n",
       "<table border=\"1\" class=\"dataframe\">\n",
       "  <thead>\n",
       "    <tr style=\"text-align: right;\">\n",
       "      <th></th>\n",
       "      <th>actual_2015_additional_passengers_upon_implementation_passengers_per_day</th>\n",
       "      <th>actual_2015_co_financing_bilateral_us_m</th>\n",
       "      <th>actual_2015_co_financing_govt_us_m</th>\n",
       "      <th>actual_2015_co_financing_mdb1_us_m</th>\n",
       "      <th>actual_2015_co_financing_others_us_m</th>\n",
       "      <th>actual_2015_co_financing_pvt_us_m</th>\n",
       "      <th>actual_2015_co_financing_total_us_m</th>\n",
       "      <th>actual_2015_energy_savings_annual_gwh_yr</th>\n",
       "      <th>actual_2015_ghg_reductions_annual_tco2_yr</th>\n",
       "      <th>actual_2015_installed_capacity_geothermal_mw</th>\n",
       "      <th>actual_2015_installed_capacity_hydro_mw</th>\n",
       "      <th>actual_2015_installed_capacity_mixed_mw</th>\n",
       "      <th>actual_2015_installed_capacity_solar_mw</th>\n",
       "      <th>actual_2015_installed_capacity_total_mw</th>\n",
       "      <th>actual_2015_installed_capacity_wind_mw</th>\n",
       "      <th>country</th>\n",
       "      <th>ctf_funding_usd</th>\n",
       "      <th>cumulative_additional_passengers_upon_implementation_passengers_per_day</th>\n",
       "      <th>cumulative_co_financing_bilateral_us_m</th>\n",
       "      <th>cumulative_co_financing_govt_us_m</th>\n",
       "      <th>cumulative_co_financing_mdb1_us_m</th>\n",
       "      <th>cumulative_co_financing_others_us_m</th>\n",
       "      <th>cumulative_co_financing_pvt_us_m</th>\n",
       "      <th>cumulative_co_financing_total_us_m</th>\n",
       "      <th>cumulative_energy_savings_annual_gwh_yr</th>\n",
       "      <th>cumulative_ghg_reductions_annual_tco2_yr</th>\n",
       "      <th>cumulative_installed_capacity_geothermal_mw</th>\n",
       "      <th>cumulative_installed_capacity_hydro_mw</th>\n",
       "      <th>cumulative_installed_capacity_mixed_mw</th>\n",
       "      <th>cumulative_installed_capacity_solar_mw</th>\n",
       "      <th>cumulative_installed_capacity_total_mw</th>\n",
       "      <th>cumulative_installed_capacity_wind_mw</th>\n",
       "      <th>expected_additional_passengers_upon_implementation_passengers_per_day</th>\n",
       "      <th>expected_co_financing_bilateral_us_m</th>\n",
       "      <th>expected_co_financing_govt_us_m</th>\n",
       "      <th>expected_co_financing_mdb1_us_m</th>\n",
       "      <th>expected_co_financing_others_us_m</th>\n",
       "      <th>expected_co_financing_pvt_us_m</th>\n",
       "      <th>expected_co_financing_total_us_m</th>\n",
       "      <th>expected_energy_savings_annual_gwh_yr</th>\n",
       "      <th>expected_ghg_reductions_annual_tco2_yr</th>\n",
       "      <th>expected_ghg_reductions_lifetime_tco2</th>\n",
       "      <th>expected_installed_capacity_geothermal_mw</th>\n",
       "      <th>expected_installed_capacity_hydro_mw</th>\n",
       "      <th>expected_installed_capacity_mixed_mw</th>\n",
       "      <th>expected_installed_capacity_solar_mw</th>\n",
       "      <th>expected_installed_capacity_total_mw</th>\n",
       "      <th>expected_installed_capacity_wind_mw</th>\n",
       "      <th>fund</th>\n",
       "      <th>lifetime_where_available</th>\n",
       "      <th>mdb_1</th>\n",
       "      <th>project_title</th>\n",
       "      <th>public_private</th>\n",
       "      <th>region</th>\n",
       "      <th>ry</th>\n",
       "      <th>specific_technology</th>\n",
       "      <th>technology_focus</th>\n",
       "    </tr>\n",
       "  </thead>\n",
       "  <tbody>\n",
       "    <tr>\n",
       "      <th>0</th>\n",
       "      <td>0</td>\n",
       "      <td>0</td>\n",
       "      <td>0</td>\n",
       "      <td>32.0</td>\n",
       "      <td>0</td>\n",
       "      <td>0</td>\n",
       "      <td>32</td>\n",
       "      <td>0</td>\n",
       "      <td>0.0</td>\n",
       "      <td>0</td>\n",
       "      <td>0</td>\n",
       "      <td>0</td>\n",
       "      <td>0</td>\n",
       "      <td>0</td>\n",
       "      <td>0</td>\n",
       "      <td>Morocco</td>\n",
       "      <td>25</td>\n",
       "      <td>0</td>\n",
       "      <td>0.0</td>\n",
       "      <td>0.0</td>\n",
       "      <td>34.0</td>\n",
       "      <td>0.0</td>\n",
       "      <td>0.0</td>\n",
       "      <td>32.0</td>\n",
       "      <td>0</td>\n",
       "      <td>0.0</td>\n",
       "      <td>0</td>\n",
       "      <td>0</td>\n",
       "      <td>0</td>\n",
       "      <td>0</td>\n",
       "      <td>0</td>\n",
       "      <td>0</td>\n",
       "      <td>0</td>\n",
       "      <td>0</td>\n",
       "      <td>9</td>\n",
       "      <td>125</td>\n",
       "      <td>0</td>\n",
       "      <td>0</td>\n",
       "      <td>134</td>\n",
       "      <td>0</td>\n",
       "      <td>78018</td>\n",
       "      <td>1950000</td>\n",
       "      <td>0</td>\n",
       "      <td>0</td>\n",
       "      <td>0</td>\n",
       "      <td>75</td>\n",
       "      <td>75</td>\n",
       "      <td>0</td>\n",
       "      <td>CTF</td>\n",
       "      <td>25</td>\n",
       "      <td>IBRD</td>\n",
       "      <td>Clean and Efficient Energy Project</td>\n",
       "      <td>Public</td>\n",
       "      <td>Africa</td>\n",
       "      <td>2017</td>\n",
       "      <td>Solar</td>\n",
       "      <td>Renewable Energy</td>\n",
       "    </tr>\n",
       "    <tr>\n",
       "      <th>1</th>\n",
       "      <td>0</td>\n",
       "      <td>0</td>\n",
       "      <td>0</td>\n",
       "      <td>0.0</td>\n",
       "      <td>0</td>\n",
       "      <td>0</td>\n",
       "      <td>0</td>\n",
       "      <td>0</td>\n",
       "      <td>0.0</td>\n",
       "      <td>0</td>\n",
       "      <td>0</td>\n",
       "      <td>0</td>\n",
       "      <td>0</td>\n",
       "      <td>0</td>\n",
       "      <td>0</td>\n",
       "      <td>Turkey</td>\n",
       "      <td>30</td>\n",
       "      <td>0</td>\n",
       "      <td>0.0</td>\n",
       "      <td>0.0</td>\n",
       "      <td>0.0</td>\n",
       "      <td>0.0</td>\n",
       "      <td>0.0</td>\n",
       "      <td>0.0</td>\n",
       "      <td>0</td>\n",
       "      <td>0.0</td>\n",
       "      <td>0</td>\n",
       "      <td>0</td>\n",
       "      <td>0</td>\n",
       "      <td>0</td>\n",
       "      <td>0</td>\n",
       "      <td>0</td>\n",
       "      <td>0</td>\n",
       "      <td>0</td>\n",
       "      <td>0</td>\n",
       "      <td>100</td>\n",
       "      <td>0</td>\n",
       "      <td>290</td>\n",
       "      <td>390</td>\n",
       "      <td>30</td>\n",
       "      <td>14000</td>\n",
       "      <td>420000</td>\n",
       "      <td>0</td>\n",
       "      <td>0</td>\n",
       "      <td>0</td>\n",
       "      <td>0</td>\n",
       "      <td>0</td>\n",
       "      <td>0</td>\n",
       "      <td>CTF</td>\n",
       "      <td>30</td>\n",
       "      <td>IFC</td>\n",
       "      <td>Commercial Sustainable Energy Finance(CSEF) Ph...</td>\n",
       "      <td>Private</td>\n",
       "      <td>Europe and Central Asia</td>\n",
       "      <td>2017</td>\n",
       "      <td>EE-Other</td>\n",
       "      <td>Energy Efficiency</td>\n",
       "    </tr>\n",
       "    <tr>\n",
       "      <th>2</th>\n",
       "      <td>0</td>\n",
       "      <td>0</td>\n",
       "      <td>0</td>\n",
       "      <td>0.0</td>\n",
       "      <td>0</td>\n",
       "      <td>0</td>\n",
       "      <td>0</td>\n",
       "      <td>110</td>\n",
       "      <td>145800.0</td>\n",
       "      <td>0</td>\n",
       "      <td>0</td>\n",
       "      <td>0</td>\n",
       "      <td>0</td>\n",
       "      <td>0</td>\n",
       "      <td>0</td>\n",
       "      <td>Turkey</td>\n",
       "      <td>22</td>\n",
       "      <td>0</td>\n",
       "      <td>0.0</td>\n",
       "      <td>0.0</td>\n",
       "      <td>95.0</td>\n",
       "      <td>0.0</td>\n",
       "      <td>0.0</td>\n",
       "      <td>95.0</td>\n",
       "      <td>508</td>\n",
       "      <td>633500.0</td>\n",
       "      <td>0</td>\n",
       "      <td>0</td>\n",
       "      <td>0</td>\n",
       "      <td>0</td>\n",
       "      <td>0</td>\n",
       "      <td>0</td>\n",
       "      <td>0</td>\n",
       "      <td>0</td>\n",
       "      <td>0</td>\n",
       "      <td>80</td>\n",
       "      <td>0</td>\n",
       "      <td>0</td>\n",
       "      <td>80</td>\n",
       "      <td>220</td>\n",
       "      <td>280000</td>\n",
       "      <td>2800000</td>\n",
       "      <td>0</td>\n",
       "      <td>0</td>\n",
       "      <td>0</td>\n",
       "      <td>0</td>\n",
       "      <td>0</td>\n",
       "      <td>0</td>\n",
       "      <td>CTF</td>\n",
       "      <td>10</td>\n",
       "      <td>IFC</td>\n",
       "      <td>Commercializing  Sustainable Energy Finance Pr...</td>\n",
       "      <td>Private</td>\n",
       "      <td>Europe and Central Asia</td>\n",
       "      <td>2017</td>\n",
       "      <td>EE-End USe</td>\n",
       "      <td>Energy Efficiency</td>\n",
       "    </tr>\n",
       "    <tr>\n",
       "      <th>3</th>\n",
       "      <td>0</td>\n",
       "      <td>0</td>\n",
       "      <td>0</td>\n",
       "      <td>0.0</td>\n",
       "      <td>0</td>\n",
       "      <td>0</td>\n",
       "      <td>0</td>\n",
       "      <td>0</td>\n",
       "      <td>0.0</td>\n",
       "      <td>0</td>\n",
       "      <td>0</td>\n",
       "      <td>0</td>\n",
       "      <td>0</td>\n",
       "      <td>0</td>\n",
       "      <td>0</td>\n",
       "      <td>Chile</td>\n",
       "      <td>67</td>\n",
       "      <td>0</td>\n",
       "      <td>0.0</td>\n",
       "      <td>0.0</td>\n",
       "      <td>0.0</td>\n",
       "      <td>0.0</td>\n",
       "      <td>0.0</td>\n",
       "      <td>0.0</td>\n",
       "      <td>0</td>\n",
       "      <td>0.0</td>\n",
       "      <td>0</td>\n",
       "      <td>0</td>\n",
       "      <td>0</td>\n",
       "      <td>0</td>\n",
       "      <td>0</td>\n",
       "      <td>0</td>\n",
       "      <td>0</td>\n",
       "      <td>143</td>\n",
       "      <td>20</td>\n",
       "      <td>66</td>\n",
       "      <td>0</td>\n",
       "      <td>130</td>\n",
       "      <td>359</td>\n",
       "      <td>0</td>\n",
       "      <td>129300</td>\n",
       "      <td>3879000</td>\n",
       "      <td>0</td>\n",
       "      <td>0</td>\n",
       "      <td>0</td>\n",
       "      <td>50</td>\n",
       "      <td>50</td>\n",
       "      <td>0</td>\n",
       "      <td>CTF</td>\n",
       "      <td>30</td>\n",
       "      <td>IDB</td>\n",
       "      <td>Concentrated Solar Power Project (CSPP)</td>\n",
       "      <td>Private</td>\n",
       "      <td>Latin America and Caribbean</td>\n",
       "      <td>2017</td>\n",
       "      <td>Solar</td>\n",
       "      <td>Renewable Energy</td>\n",
       "    </tr>\n",
       "    <tr>\n",
       "      <th>4</th>\n",
       "      <td>0</td>\n",
       "      <td>0</td>\n",
       "      <td>0</td>\n",
       "      <td>9.0</td>\n",
       "      <td>0</td>\n",
       "      <td>0</td>\n",
       "      <td>9</td>\n",
       "      <td>0</td>\n",
       "      <td>0.0</td>\n",
       "      <td>0</td>\n",
       "      <td>0</td>\n",
       "      <td>0</td>\n",
       "      <td>0</td>\n",
       "      <td>0</td>\n",
       "      <td>0</td>\n",
       "      <td>Ukraine</td>\n",
       "      <td>51</td>\n",
       "      <td>0</td>\n",
       "      <td>0.0</td>\n",
       "      <td>0.0</td>\n",
       "      <td>12.0</td>\n",
       "      <td>0.0</td>\n",
       "      <td>0.0</td>\n",
       "      <td>12.0</td>\n",
       "      <td>0</td>\n",
       "      <td>0.0</td>\n",
       "      <td>0</td>\n",
       "      <td>0</td>\n",
       "      <td>0</td>\n",
       "      <td>0</td>\n",
       "      <td>0</td>\n",
       "      <td>0</td>\n",
       "      <td>0</td>\n",
       "      <td>0</td>\n",
       "      <td>0</td>\n",
       "      <td>332</td>\n",
       "      <td>0</td>\n",
       "      <td>0</td>\n",
       "      <td>332</td>\n",
       "      <td>560</td>\n",
       "      <td>330000</td>\n",
       "      <td>5260000</td>\n",
       "      <td>0</td>\n",
       "      <td>0</td>\n",
       "      <td>0</td>\n",
       "      <td>0</td>\n",
       "      <td>0</td>\n",
       "      <td>0</td>\n",
       "      <td>CTF</td>\n",
       "      <td>20</td>\n",
       "      <td>IBRD</td>\n",
       "      <td>District Heating Energy Efficiency</td>\n",
       "      <td>Public</td>\n",
       "      <td>Europe and Central Asia</td>\n",
       "      <td>2017</td>\n",
       "      <td>EE-District Heating</td>\n",
       "      <td>Energy Efficiency</td>\n",
       "    </tr>\n",
       "  </tbody>\n",
       "</table>\n",
       "</div>"
      ],
      "text/plain": [
       "   actual_2015_additional_passengers_upon_implementation_passengers_per_day  \\\n",
       "0                                                  0                          \n",
       "1                                                  0                          \n",
       "2                                                  0                          \n",
       "3                                                  0                          \n",
       "4                                                  0                          \n",
       "\n",
       "   actual_2015_co_financing_bilateral_us_m  \\\n",
       "0                                        0   \n",
       "1                                        0   \n",
       "2                                        0   \n",
       "3                                        0   \n",
       "4                                        0   \n",
       "\n",
       "   actual_2015_co_financing_govt_us_m  actual_2015_co_financing_mdb1_us_m  \\\n",
       "0                                   0                                32.0   \n",
       "1                                   0                                 0.0   \n",
       "2                                   0                                 0.0   \n",
       "3                                   0                                 0.0   \n",
       "4                                   0                                 9.0   \n",
       "\n",
       "   actual_2015_co_financing_others_us_m  actual_2015_co_financing_pvt_us_m  \\\n",
       "0                                     0                                  0   \n",
       "1                                     0                                  0   \n",
       "2                                     0                                  0   \n",
       "3                                     0                                  0   \n",
       "4                                     0                                  0   \n",
       "\n",
       "   actual_2015_co_financing_total_us_m  \\\n",
       "0                                   32   \n",
       "1                                    0   \n",
       "2                                    0   \n",
       "3                                    0   \n",
       "4                                    9   \n",
       "\n",
       "   actual_2015_energy_savings_annual_gwh_yr  \\\n",
       "0                                         0   \n",
       "1                                         0   \n",
       "2                                       110   \n",
       "3                                         0   \n",
       "4                                         0   \n",
       "\n",
       "   actual_2015_ghg_reductions_annual_tco2_yr  \\\n",
       "0                                        0.0   \n",
       "1                                        0.0   \n",
       "2                                   145800.0   \n",
       "3                                        0.0   \n",
       "4                                        0.0   \n",
       "\n",
       "   actual_2015_installed_capacity_geothermal_mw  \\\n",
       "0                                             0   \n",
       "1                                             0   \n",
       "2                                             0   \n",
       "3                                             0   \n",
       "4                                             0   \n",
       "\n",
       "   actual_2015_installed_capacity_hydro_mw  \\\n",
       "0                                        0   \n",
       "1                                        0   \n",
       "2                                        0   \n",
       "3                                        0   \n",
       "4                                        0   \n",
       "\n",
       "   actual_2015_installed_capacity_mixed_mw  \\\n",
       "0                                        0   \n",
       "1                                        0   \n",
       "2                                        0   \n",
       "3                                        0   \n",
       "4                                        0   \n",
       "\n",
       "   actual_2015_installed_capacity_solar_mw  \\\n",
       "0                                        0   \n",
       "1                                        0   \n",
       "2                                        0   \n",
       "3                                        0   \n",
       "4                                        0   \n",
       "\n",
       "   actual_2015_installed_capacity_total_mw  \\\n",
       "0                                        0   \n",
       "1                                        0   \n",
       "2                                        0   \n",
       "3                                        0   \n",
       "4                                        0   \n",
       "\n",
       "   actual_2015_installed_capacity_wind_mw  country  ctf_funding_usd  \\\n",
       "0                                       0  Morocco               25   \n",
       "1                                       0   Turkey               30   \n",
       "2                                       0   Turkey               22   \n",
       "3                                       0    Chile               67   \n",
       "4                                       0  Ukraine               51   \n",
       "\n",
       "   cumulative_additional_passengers_upon_implementation_passengers_per_day  \\\n",
       "0                                                  0                         \n",
       "1                                                  0                         \n",
       "2                                                  0                         \n",
       "3                                                  0                         \n",
       "4                                                  0                         \n",
       "\n",
       "   cumulative_co_financing_bilateral_us_m  cumulative_co_financing_govt_us_m  \\\n",
       "0                                     0.0                                0.0   \n",
       "1                                     0.0                                0.0   \n",
       "2                                     0.0                                0.0   \n",
       "3                                     0.0                                0.0   \n",
       "4                                     0.0                                0.0   \n",
       "\n",
       "   cumulative_co_financing_mdb1_us_m  cumulative_co_financing_others_us_m  \\\n",
       "0                               34.0                                  0.0   \n",
       "1                                0.0                                  0.0   \n",
       "2                               95.0                                  0.0   \n",
       "3                                0.0                                  0.0   \n",
       "4                               12.0                                  0.0   \n",
       "\n",
       "   cumulative_co_financing_pvt_us_m  cumulative_co_financing_total_us_m  \\\n",
       "0                               0.0                                32.0   \n",
       "1                               0.0                                 0.0   \n",
       "2                               0.0                                95.0   \n",
       "3                               0.0                                 0.0   \n",
       "4                               0.0                                12.0   \n",
       "\n",
       "   cumulative_energy_savings_annual_gwh_yr  \\\n",
       "0                                        0   \n",
       "1                                        0   \n",
       "2                                      508   \n",
       "3                                        0   \n",
       "4                                        0   \n",
       "\n",
       "   cumulative_ghg_reductions_annual_tco2_yr  \\\n",
       "0                                       0.0   \n",
       "1                                       0.0   \n",
       "2                                  633500.0   \n",
       "3                                       0.0   \n",
       "4                                       0.0   \n",
       "\n",
       "   cumulative_installed_capacity_geothermal_mw  \\\n",
       "0                                            0   \n",
       "1                                            0   \n",
       "2                                            0   \n",
       "3                                            0   \n",
       "4                                            0   \n",
       "\n",
       "   cumulative_installed_capacity_hydro_mw  \\\n",
       "0                                       0   \n",
       "1                                       0   \n",
       "2                                       0   \n",
       "3                                       0   \n",
       "4                                       0   \n",
       "\n",
       "   cumulative_installed_capacity_mixed_mw  \\\n",
       "0                                       0   \n",
       "1                                       0   \n",
       "2                                       0   \n",
       "3                                       0   \n",
       "4                                       0   \n",
       "\n",
       "   cumulative_installed_capacity_solar_mw  \\\n",
       "0                                       0   \n",
       "1                                       0   \n",
       "2                                       0   \n",
       "3                                       0   \n",
       "4                                       0   \n",
       "\n",
       "   cumulative_installed_capacity_total_mw  \\\n",
       "0                                       0   \n",
       "1                                       0   \n",
       "2                                       0   \n",
       "3                                       0   \n",
       "4                                       0   \n",
       "\n",
       "   cumulative_installed_capacity_wind_mw  \\\n",
       "0                                      0   \n",
       "1                                      0   \n",
       "2                                      0   \n",
       "3                                      0   \n",
       "4                                      0   \n",
       "\n",
       "   expected_additional_passengers_upon_implementation_passengers_per_day  \\\n",
       "0                                                  0                       \n",
       "1                                                  0                       \n",
       "2                                                  0                       \n",
       "3                                                  0                       \n",
       "4                                                  0                       \n",
       "\n",
       "   expected_co_financing_bilateral_us_m  expected_co_financing_govt_us_m  \\\n",
       "0                                     0                                9   \n",
       "1                                     0                                0   \n",
       "2                                     0                                0   \n",
       "3                                   143                               20   \n",
       "4                                     0                                0   \n",
       "\n",
       "   expected_co_financing_mdb1_us_m  expected_co_financing_others_us_m  \\\n",
       "0                              125                                  0   \n",
       "1                              100                                  0   \n",
       "2                               80                                  0   \n",
       "3                               66                                  0   \n",
       "4                              332                                  0   \n",
       "\n",
       "   expected_co_financing_pvt_us_m  expected_co_financing_total_us_m  \\\n",
       "0                               0                               134   \n",
       "1                             290                               390   \n",
       "2                               0                                80   \n",
       "3                             130                               359   \n",
       "4                               0                               332   \n",
       "\n",
       "   expected_energy_savings_annual_gwh_yr  \\\n",
       "0                                      0   \n",
       "1                                     30   \n",
       "2                                    220   \n",
       "3                                      0   \n",
       "4                                    560   \n",
       "\n",
       "   expected_ghg_reductions_annual_tco2_yr  \\\n",
       "0                                   78018   \n",
       "1                                   14000   \n",
       "2                                  280000   \n",
       "3                                  129300   \n",
       "4                                  330000   \n",
       "\n",
       "   expected_ghg_reductions_lifetime_tco2  \\\n",
       "0                                1950000   \n",
       "1                                 420000   \n",
       "2                                2800000   \n",
       "3                                3879000   \n",
       "4                                5260000   \n",
       "\n",
       "   expected_installed_capacity_geothermal_mw  \\\n",
       "0                                          0   \n",
       "1                                          0   \n",
       "2                                          0   \n",
       "3                                          0   \n",
       "4                                          0   \n",
       "\n",
       "   expected_installed_capacity_hydro_mw  expected_installed_capacity_mixed_mw  \\\n",
       "0                                     0                                     0   \n",
       "1                                     0                                     0   \n",
       "2                                     0                                     0   \n",
       "3                                     0                                     0   \n",
       "4                                     0                                     0   \n",
       "\n",
       "   expected_installed_capacity_solar_mw  expected_installed_capacity_total_mw  \\\n",
       "0                                    75                                    75   \n",
       "1                                     0                                     0   \n",
       "2                                     0                                     0   \n",
       "3                                    50                                    50   \n",
       "4                                     0                                     0   \n",
       "\n",
       "   expected_installed_capacity_wind_mw fund  lifetime_where_available mdb_1  \\\n",
       "0                                    0  CTF                        25  IBRD   \n",
       "1                                    0  CTF                        30   IFC   \n",
       "2                                    0  CTF                        10   IFC   \n",
       "3                                    0  CTF                        30   IDB   \n",
       "4                                    0  CTF                        20  IBRD   \n",
       "\n",
       "                                       project_title public_private  \\\n",
       "0                 Clean and Efficient Energy Project         Public   \n",
       "1  Commercial Sustainable Energy Finance(CSEF) Ph...        Private   \n",
       "2  Commercializing  Sustainable Energy Finance Pr...        Private   \n",
       "3            Concentrated Solar Power Project (CSPP)        Private   \n",
       "4                 District Heating Energy Efficiency         Public   \n",
       "\n",
       "                        region    ry  specific_technology   technology_focus  \n",
       "0                       Africa  2017                Solar   Renewable Energy  \n",
       "1      Europe and Central Asia  2017             EE-Other  Energy Efficiency  \n",
       "2      Europe and Central Asia  2017           EE-End USe  Energy Efficiency  \n",
       "3  Latin America and Caribbean  2017                Solar   Renewable Energy  \n",
       "4      Europe and Central Asia  2017  EE-District Heating  Energy Efficiency  "
      ]
     },
     "execution_count": 3,
     "metadata": {},
     "output_type": "execute_result"
    }
   ],
   "source": [
    "#Visualizing the first few rows of the read data\n",
    "pd.set_option('display.max_columns', None)\n",
    "df.head()"
   ]
  },
  {
   "cell_type": "code",
   "execution_count": 4,
   "metadata": {
    "scrolled": true
   },
   "outputs": [
    {
     "data": {
      "text/plain": [
       "actual_2015_additional_passengers_upon_implementation_passengers_per_day      int64\n",
       "actual_2015_co_financing_bilateral_us_m                                       int64\n",
       "actual_2015_co_financing_govt_us_m                                            int64\n",
       "actual_2015_co_financing_mdb1_us_m                                          float64\n",
       "actual_2015_co_financing_others_us_m                                          int64\n",
       "actual_2015_co_financing_pvt_us_m                                             int64\n",
       "actual_2015_co_financing_total_us_m                                           int64\n",
       "actual_2015_energy_savings_annual_gwh_yr                                      int64\n",
       "actual_2015_ghg_reductions_annual_tco2_yr                                   float64\n",
       "actual_2015_installed_capacity_geothermal_mw                                  int64\n",
       "actual_2015_installed_capacity_hydro_mw                                       int64\n",
       "actual_2015_installed_capacity_mixed_mw                                       int64\n",
       "actual_2015_installed_capacity_solar_mw                                       int64\n",
       "actual_2015_installed_capacity_total_mw                                       int64\n",
       "actual_2015_installed_capacity_wind_mw                                        int64\n",
       "country                                                                      object\n",
       "ctf_funding_usd                                                               int64\n",
       "cumulative_additional_passengers_upon_implementation_passengers_per_day       int64\n",
       "cumulative_co_financing_bilateral_us_m                                      float64\n",
       "cumulative_co_financing_govt_us_m                                           float64\n",
       "cumulative_co_financing_mdb1_us_m                                           float64\n",
       "cumulative_co_financing_others_us_m                                         float64\n",
       "cumulative_co_financing_pvt_us_m                                            float64\n",
       "cumulative_co_financing_total_us_m                                          float64\n",
       "cumulative_energy_savings_annual_gwh_yr                                       int64\n",
       "cumulative_ghg_reductions_annual_tco2_yr                                    float64\n",
       "cumulative_installed_capacity_geothermal_mw                                   int64\n",
       "cumulative_installed_capacity_hydro_mw                                        int64\n",
       "cumulative_installed_capacity_mixed_mw                                        int64\n",
       "cumulative_installed_capacity_solar_mw                                        int64\n",
       "cumulative_installed_capacity_total_mw                                        int64\n",
       "cumulative_installed_capacity_wind_mw                                         int64\n",
       "expected_additional_passengers_upon_implementation_passengers_per_day         int64\n",
       "expected_co_financing_bilateral_us_m                                          int64\n",
       "expected_co_financing_govt_us_m                                               int64\n",
       "expected_co_financing_mdb1_us_m                                               int64\n",
       "expected_co_financing_others_us_m                                             int64\n",
       "expected_co_financing_pvt_us_m                                                int64\n",
       "expected_co_financing_total_us_m                                              int64\n",
       "expected_energy_savings_annual_gwh_yr                                         int64\n",
       "expected_ghg_reductions_annual_tco2_yr                                        int64\n",
       "expected_ghg_reductions_lifetime_tco2                                         int64\n",
       "expected_installed_capacity_geothermal_mw                                     int64\n",
       "expected_installed_capacity_hydro_mw                                          int64\n",
       "expected_installed_capacity_mixed_mw                                          int64\n",
       "expected_installed_capacity_solar_mw                                          int64\n",
       "expected_installed_capacity_total_mw                                          int64\n",
       "expected_installed_capacity_wind_mw                                           int64\n",
       "fund                                                                         object\n",
       "lifetime_where_available                                                      int64\n",
       "mdb_1                                                                        object\n",
       "project_title                                                                object\n",
       "public_private                                                               object\n",
       "region                                                                       object\n",
       "ry                                                                            int64\n",
       "specific_technology                                                          object\n",
       "technology_focus                                                             object\n",
       "dtype: object"
      ]
     },
     "execution_count": 4,
     "metadata": {},
     "output_type": "execute_result"
    }
   ],
   "source": [
    "# Checking the data types of the columns of the read data\n",
    "df.dtypes"
   ]
  },
  {
   "cell_type": "code",
   "execution_count": 5,
   "metadata": {
    "scrolled": true
   },
   "outputs": [
    {
     "data": {
      "text/plain": [
       "array(['Clean and Efficient Energy Project',\n",
       "       'Commercial Sustainable Energy Finance(CSEF) Phase II',\n",
       "       'Commercializing  Sustainable Energy Finance Program (CSEF)',\n",
       "       'Concentrated Solar Power Project (CSPP)',\n",
       "       'District Heating Energy Efficiency',\n",
       "       'District Heating Modernisation Program',\n",
       "       'District Heating Modernization Framework',\n",
       "       'ECOCASA Program-Energy Efficiency Program Part II', 'EE Program',\n",
       "       'Efficient Lighting and Appliance Project',\n",
       "       'Energy Efficiency and Self-Supply Renewable Energy Program',\n",
       "       'Energy Efficiency Financing Program for the Services Sector',\n",
       "       'Energy Efficiency Program in the San Andrés, Providencia and Santa Catalina Archipelago',\n",
       "       'Energy Efficiency Program-Part 1',\n",
       "       'Energy Efficient Electric Vehicles project',\n",
       "       'ESKOM Renewable Support Project-CSP',\n",
       "       'ESKOM Renewable Support Project-Wind',\n",
       "       'Expansion of the Approved South Africa Sustainable Energy Acceleration Program (SEAP)',\n",
       "       'Financial Innovation for Renewable Energy (FIRE) Project',\n",
       "       'Geothermal Development Lending Facility',\n",
       "       'Geothermal Electricity Finance',\n",
       "       'Geothermal Energy Upstream Development Project',\n",
       "       'Geothermal Exploration and Transmission Improvement Program under the PINIC',\n",
       "       'Geothermal Financing and Risk Transfer Facility / Utility Scale RE-geothermal-Geothermal Financing and Risk Transfer facility',\n",
       "       'Geothermal Risk Mitigation Program',\n",
       "       'Grid connected rooftop solar',\n",
       "       'Ha Noi Sustainable Urban Transport Program',\n",
       "       'Himachal Pradesh Environmentally Sustainable Development Policy Loan',\n",
       "       'Indonesia Geothermal Clean Energy Investment Project',\n",
       "       'Innovative Instruments to Foster Energy Efficiency in SMEs in Colombia',\n",
       "       'Large-Scale Photo-Voltaic Program (LSPVP)',\n",
       "       'Line of Credit for Renewable Energy and Energy Efficiency Project',\n",
       "       'Morocco Ouarzazate CSP (Noor I)', 'Morocco-Noor II and III CSP',\n",
       "       'Non-Conventional Renewable Energy', 'One Wind Energy Plan',\n",
       "       'Partial Risk Sharing Facility in Energy Efficiency',\n",
       "       'Philippines Cebu Bus Rapid Transit(BRT) Demonstration Project',\n",
       "       'Philippines Manila BRT',\n",
       "       'Private Sector Bank-Intermediated Project(TURSEFF II, TurREFF, Mun SEFF',\n",
       "       'Private Sector Geothermal Energy Program',\n",
       "       'Private Sector Geothermal Program:  Indonesia & Philippines',\n",
       "       'Private Sector RE and EE Project',\n",
       "       'Private Sector Renewable Energy program',\n",
       "       'Private Sector Wind Development(La Ventosa)',\n",
       "       'REAP and Expansion of the Approved RE Accelerator Program (REAP)',\n",
       "       'Renewable Energy Accelerator Program(TSEFF)',\n",
       "       'Renewable Energy Development (PHRED)',\n",
       "       'Renewable Energy Finance Facility (KAZREFF)',\n",
       "       'Renewable Energy Financing Facility(REFF)',\n",
       "       'Renewable Energy I-Waste Management Framework',\n",
       "       'Renewable Energy II - Novoazovsk Wind Project',\n",
       "       'Renewable Energy II-Kazakh Railways Sustainable Energy  Program',\n",
       "       'Renewable Energy Mini-grids and Distributed Power Generation',\n",
       "       'Renewable Energy Program',\n",
       "       'Renewable Energy Program for Colombia',\n",
       "       'Renewables Direct Lending Facility-Creating Markets for Renewable Power (USELF 1)',\n",
       "       'Residential Energy Efficiency Finance Facility (UREEFF)',\n",
       "       'Second Urban Infrastructure Project',\n",
       "       'SEMed Private Renewable Energy Framework (SPREF)',\n",
       "       'Shared Infrastructure for Solar Parks', 'Solar Park Transmission',\n",
       "       'Solar Park:  Rajasthan', 'Solar Rooftop PV',\n",
       "       'Strategic Public Transportation Systems Program(SETP)',\n",
       "       'Sustainable Energy Acceleration Program',\n",
       "       'Sustainable Energy Finance Program',\n",
       "       'Sustainable Energy Finance Program(T-SEF)',\n",
       "       'Sustainable Energy Lending Facility Replenishment (USELF 2)',\n",
       "       'Sustainable Urban Transport for HCMC MRT Line 2',\n",
       "       \"Technological Transformation Program for Bogota's Integrated Public Transport System(BOGOTA SITP)\",\n",
       "       'Turkey Renewable Energy Integration project (T&D)',\n",
       "       'Turkish Private Sector Sustainable Energy Financing Facility(TurSEFF)',\n",
       "       'Ukraine Second Power Transmission Project',\n",
       "       'Urban Transport Transformation Project',\n",
       "       'Utility Scale RE-geothermal',\n",
       "       'Utility Scale renewable Energy:  Geothermal / Caribbean',\n",
       "       'Utility Scale Renewable Energy:  Solar Photovoltaic Financing',\n",
       "       'Vietnam Distribution Efficiency Project',\n",
       "       'Wind Power Development Project(Transmission)  T&D',\n",
       "       'Yereymentau Large Wind Power Plant'], dtype=object)"
      ]
     },
     "execution_count": 5,
     "metadata": {},
     "output_type": "execute_result"
    }
   ],
   "source": [
    "# Finding projects(unique)  using the unique method \n",
    "df['project_title'].unique()"
   ]
  },
  {
   "cell_type": "code",
   "execution_count": 6,
   "metadata": {},
   "outputs": [
    {
     "data": {
      "text/plain": [
       "81"
      ]
     },
     "execution_count": 6,
     "metadata": {},
     "output_type": "execute_result"
    }
   ],
   "source": [
    "# Finding the number of projects(unique) using the nunique method \n",
    "df['project_title'].nunique()"
   ]
  },
  {
   "cell_type": "code",
   "execution_count": 7,
   "metadata": {},
   "outputs": [
    {
     "data": {
      "text/plain": [
       "Renewable Energy                        50\n",
       "Energy Efficiency                       22\n",
       "Transport                                8\n",
       "Renewable Energy / Energy Efficiency     7\n",
       "Name: technology_focus, dtype: int64"
      ]
     },
     "execution_count": 7,
     "metadata": {},
     "output_type": "execute_result"
    }
   ],
   "source": [
    "# Number of projects funded under different categories of focussed technology using the value_counts() method \n",
    "df['technology_focus'].value_counts()"
   ]
  },
  {
   "cell_type": "markdown",
   "metadata": {},
   "source": [
    "Plotting the above result in form of a bar graph"
   ]
  },
  {
   "cell_type": "code",
   "execution_count": 8,
   "metadata": {},
   "outputs": [
    {
     "data": {
      "text/plain": [
       "Text(0.5, 1.0, 'Number of projects by technology')"
      ]
     },
     "execution_count": 8,
     "metadata": {},
     "output_type": "execute_result"
    },
    {
     "data": {
      "image/png": "[encoded data removed]",
      "text/plain": [
       "<Figure size 720x432 with 1 Axes>"
      ]
     },
     "metadata": {
      "needs_background": "light"
     },
     "output_type": "display_data"
    }
   ],
   "source": [
    "import matplotlib.pyplot as plt\n",
    "%matplotlib inline\n",
    "df['technology_focus'].value_counts().plot(kind = 'bar', figsize = (10,6))\n",
    "plt.xlabel('Technology')\n",
    "plt.ylabel('No. of projects')\n",
    "plt.title('Number of projects by technology')"
   ]
  },
  {
   "cell_type": "code",
   "execution_count": 9,
   "metadata": {},
   "outputs": [
    {
     "data": {
      "text/plain": [
       "IBRD    21\n",
       "IDB     20\n",
       "IFC     16\n",
       "EBRD    14\n",
       "ADB     10\n",
       "AfDB     6\n",
       "Name: mdb_1, dtype: int64"
      ]
     },
     "execution_count": 9,
     "metadata": {},
     "output_type": "execute_result"
    }
   ],
   "source": [
    "#Different multilateral development banks and the number of projects funded by them using the value_counts() method\n",
    "df['mdb_1'].value_counts()"
   ]
  },
  {
   "cell_type": "markdown",
   "metadata": {},
   "source": [
    "Plotting the above result"
   ]
  },
  {
   "cell_type": "code",
   "execution_count": 10,
   "metadata": {},
   "outputs": [
    {
     "data": {
      "text/plain": [
       "Text(0.5, 1.0, 'No. of projects undertaken by different MDBs')"
      ]
     },
     "execution_count": 10,
     "metadata": {},
     "output_type": "execute_result"
    },
    {
     "data": {
      "image/png": "[encoded data removed]",
      "text/plain": [
       "<Figure size 720x432 with 1 Axes>"
      ]
     },
     "metadata": {
      "needs_background": "light"
     },
     "output_type": "display_data"
    }
   ],
   "source": [
    "df['mdb_1'].value_counts().plot(kind = 'bar', figsize = (10,6))\n",
    "plt.xlabel('MDB')\n",
    "plt.ylabel('No. of projects')\n",
    "plt.title('No. of projects undertaken by different MDBs')"
   ]
  },
  {
   "cell_type": "markdown",
   "metadata": {},
   "source": [
    "Finding the amount of total CTF funding allocation w.r.t. to Region"
   ]
  },
  {
   "cell_type": "code",
   "execution_count": 11,
   "metadata": {},
   "outputs": [
    {
     "data": {
      "text/plain": [
       "region\n",
       "Africa                         1288\n",
       "Asia                           1593\n",
       "Europe and Central Asia         904\n",
       "Latin America and Caribbean     905\n",
       "Name: ctf_funding_usd, dtype: int64"
      ]
     },
     "execution_count": 11,
     "metadata": {},
     "output_type": "execute_result"
    }
   ],
   "source": [
    "df.groupby(['region'])['ctf_funding_usd'].sum()"
   ]
  },
  {
   "cell_type": "markdown",
   "metadata": {},
   "source": [
    "Plotting the results"
   ]
  },
  {
   "cell_type": "code",
   "execution_count": 12,
   "metadata": {},
   "outputs": [
    {
     "data": {
      "image/png": "[encoded data removed]",
      "text/plain": [
       "<Figure size 720x432 with 1 Axes>"
      ]
     },
     "metadata": {
      "needs_background": "light"
     },
     "output_type": "display_data"
    }
   ],
   "source": [
    "df.groupby(['region'])['ctf_funding_usd'].sum().plot(kind = 'bar', figsize = (10,6))\n",
    "plt.xlabel('Region')\n",
    "plt.ylabel('CTF Funding(in millions USD)')\n",
    "plt.title('Region wise CTF funding')\n",
    "plt.show()"
   ]
  },
  {
   "cell_type": "markdown",
   "metadata": {},
   "source": [
    "No. of Public and Private Imvestments"
   ]
  },
  {
   "cell_type": "code",
   "execution_count": 13,
   "metadata": {},
   "outputs": [
    {
     "data": {
      "text/plain": [
       "Text(0.5, 1.0, 'Number of public and private investments')"
      ]
     },
     "execution_count": 13,
     "metadata": {},
     "output_type": "execute_result"
    },
    {
     "data": {
      "image/png": "[encoded data removed]",
      "text/plain": [
       "<Figure size 576x432 with 1 Axes>"
      ]
     },
     "metadata": {
      "needs_background": "light"
     },
     "output_type": "display_data"
    }
   ],
   "source": [
    "# Using groupby method to get the no. of public and private investments and then plotting the results \n",
    "df.groupby(['public_private'])['ry'].count().plot(kind =  'bar', figsize = (8,6))\n",
    "plt.ylabel('No. of investments')\n",
    "plt.title('Number of public and private investments')"
   ]
  },
  {
   "cell_type": "markdown",
   "metadata": {},
   "source": [
    "Finding the maximum and mean of total cumulative co-financing by Region"
   ]
  },
  {
   "cell_type": "code",
   "execution_count": 14,
   "metadata": {},
   "outputs": [
    {
     "data": {
      "text/html": [
       "<div>\n",
       "<style scoped>\n",
       "    .dataframe tbody tr th:only-of-type {\n",
       "        vertical-align: middle;\n",
       "    }\n",
       "\n",
       "    .dataframe tbody tr th {\n",
       "        vertical-align: top;\n",
       "    }\n",
       "\n",
       "    .dataframe thead th {\n",
       "        text-align: right;\n",
       "    }\n",
       "</style>\n",
       "<table border=\"1\" class=\"dataframe\">\n",
       "  <thead>\n",
       "    <tr style=\"text-align: right;\">\n",
       "      <th></th>\n",
       "      <th>max</th>\n",
       "      <th>mean</th>\n",
       "    </tr>\n",
       "    <tr>\n",
       "      <th>region</th>\n",
       "      <th></th>\n",
       "      <th></th>\n",
       "    </tr>\n",
       "  </thead>\n",
       "  <tbody>\n",
       "    <tr>\n",
       "      <th>Africa</th>\n",
       "      <td>1502.0</td>\n",
       "      <td>340.384615</td>\n",
       "    </tr>\n",
       "    <tr>\n",
       "      <th>Asia</th>\n",
       "      <td>982.0</td>\n",
       "      <td>108.520000</td>\n",
       "    </tr>\n",
       "    <tr>\n",
       "      <th>Europe and Central Asia</th>\n",
       "      <td>3000.0</td>\n",
       "      <td>227.916667</td>\n",
       "    </tr>\n",
       "    <tr>\n",
       "      <th>Latin America and Caribbean</th>\n",
       "      <td>3550.0</td>\n",
       "      <td>337.227273</td>\n",
       "    </tr>\n",
       "  </tbody>\n",
       "</table>\n",
       "</div>"
      ],
      "text/plain": [
       "                                max        mean\n",
       "region                                         \n",
       "Africa                       1502.0  340.384615\n",
       "Asia                          982.0  108.520000\n",
       "Europe and Central Asia      3000.0  227.916667\n",
       "Latin America and Caribbean  3550.0  337.227273"
      ]
     },
     "execution_count": 14,
     "metadata": {},
     "output_type": "execute_result"
    }
   ],
   "source": [
    "df.groupby('region').cumulative_co_financing_total_us_m.agg(['max','mean'])"
   ]
  },
  {
   "cell_type": "markdown",
   "metadata": {},
   "source": [
    "Plotting the above result"
   ]
  },
  {
   "cell_type": "code",
   "execution_count": 15,
   "metadata": {},
   "outputs": [
    {
     "data": {
      "text/plain": [
       "Text(0.5, 1.0, 'Regionwise Max and Mean Cumulative co-financing')"
      ]
     },
     "execution_count": 15,
     "metadata": {},
     "output_type": "execute_result"
    },
    {
     "data": {
      "image/png": "[encoded data removed]",
      "text/plain": [
       "<Figure size 720x576 with 1 Axes>"
      ]
     },
     "metadata": {
      "needs_background": "light"
     },
     "output_type": "display_data"
    }
   ],
   "source": [
    "df.groupby('region').cumulative_co_financing_total_us_m.agg(['max','mean']).plot(kind = 'bar', figsize = (10,8))\n",
    "plt.ylabel('Financing (in USD)')\n",
    "plt.title('Regionwise Max and Mean Cumulative co-financing')"
   ]
  },
  {
   "cell_type": "markdown",
   "metadata": {},
   "source": [
    "Finding the maximum and mean of Public and Private co-financing and plotting the results"
   ]
  },
  {
   "cell_type": "code",
   "execution_count": 16,
   "metadata": {},
   "outputs": [
    {
     "data": {
      "text/html": [
       "<div>\n",
       "<style scoped>\n",
       "    .dataframe tbody tr th:only-of-type {\n",
       "        vertical-align: middle;\n",
       "    }\n",
       "\n",
       "    .dataframe tbody tr th {\n",
       "        vertical-align: top;\n",
       "    }\n",
       "\n",
       "    .dataframe thead th {\n",
       "        text-align: right;\n",
       "    }\n",
       "</style>\n",
       "<table border=\"1\" class=\"dataframe\">\n",
       "  <thead>\n",
       "    <tr style=\"text-align: right;\">\n",
       "      <th></th>\n",
       "      <th>max</th>\n",
       "      <th>mean</th>\n",
       "    </tr>\n",
       "    <tr>\n",
       "      <th>public_private</th>\n",
       "      <th></th>\n",
       "      <th></th>\n",
       "    </tr>\n",
       "  </thead>\n",
       "  <tbody>\n",
       "    <tr>\n",
       "      <th>Private</th>\n",
       "      <td>1502.0</td>\n",
       "      <td>150.000000</td>\n",
       "    </tr>\n",
       "    <tr>\n",
       "      <th>Public</th>\n",
       "      <td>3550.0</td>\n",
       "      <td>326.833333</td>\n",
       "    </tr>\n",
       "  </tbody>\n",
       "</table>\n",
       "</div>"
      ],
      "text/plain": [
       "                   max        mean\n",
       "public_private                    \n",
       "Private         1502.0  150.000000\n",
       "Public          3550.0  326.833333"
      ]
     },
     "execution_count": 16,
     "metadata": {},
     "output_type": "execute_result"
    }
   ],
   "source": [
    "df.groupby('public_private').cumulative_co_financing_total_us_m.agg(['max','mean'])"
   ]
  },
  {
   "cell_type": "code",
   "execution_count": 17,
   "metadata": {},
   "outputs": [
    {
     "data": {
      "text/plain": [
       "Text(0.5, 1.0, 'Max and Mean Public and Private financing')"
      ]
     },
     "execution_count": 17,
     "metadata": {},
     "output_type": "execute_result"
    },
    {
     "data": {
      "image/png": "[encoded data removed]",
      "text/plain": [
       "<Figure size 720x432 with 1 Axes>"
      ]
     },
     "metadata": {
      "needs_background": "light"
     },
     "output_type": "display_data"
    }
   ],
   "source": [
    "df.groupby('public_private').cumulative_co_financing_total_us_m.agg(['max','mean']).plot(kind = 'bar', figsize = (10,6))\n",
    "plt.ylabel('Financing (in USD)')\n",
    "plt.title('Max and Mean Public and Private financing')"
   ]
  },
  {
   "cell_type": "markdown",
   "metadata": {},
   "source": [
    "Comparing the expected and actual total co-financing by region"
   ]
  },
  {
   "cell_type": "code",
   "execution_count": 18,
   "metadata": {},
   "outputs": [],
   "source": [
    "Expected = df.groupby(['region'])['expected_co_financing_total_us_m'].sum()\n",
    "Actual = df.groupby(['region'])['actual_2015_co_financing_total_us_m'].sum()"
   ]
  },
  {
   "cell_type": "markdown",
   "metadata": {},
   "source": [
    "Plotting the same"
   ]
  },
  {
   "cell_type": "code",
   "execution_count": 19,
   "metadata": {},
   "outputs": [
    {
     "data": {
      "text/plain": [
       "<matplotlib.axes._subplots.AxesSubplot at 0xcf919b0>"
      ]
     },
     "execution_count": 19,
     "metadata": {},
     "output_type": "execute_result"
    },
    {
     "data": {
      "image/png": "[encoded data removed]",
      "text/plain": [
       "<Figure size 720x432 with 1 Axes>"
      ]
     },
     "metadata": {
      "needs_background": "light"
     },
     "output_type": "display_data"
    }
   ],
   "source": [
    "#Putting the compared results in a dataframe and using the plot method on the dataframe \n",
    "pd.DataFrame({'Expected':Expected,\n",
    "              'Actual': Actual}).plot(kind = 'bar', figsize = (10,6), title = 'Expected v/s Actual(2015) Regionwise Financing')"
   ]
  },
  {
   "cell_type": "markdown",
   "metadata": {},
   "source": [
    "Comparing the Expected co-financing by respective institutions"
   ]
  },
  {
   "cell_type": "code",
   "execution_count": 20,
   "metadata": {},
   "outputs": [],
   "source": [
    "#Expected co-financing from Government\n",
    "G = df.groupby(['region']).expected_co_financing_govt_us_m.sum()\n",
    "\n",
    "#Expected co-financing  from Private Institutions\n",
    "P = df.groupby(['region']).expected_co_financing_pvt_us_m.sum()\n",
    "\n",
    "#Expected co-financing from Multilateral development banks\n",
    "M = df.groupby(['region']).expected_co_financing_mdb1_us_m.sum()\n",
    "\n",
    "#Bilateral expected co-financing\n",
    "B = df.groupby(['region']).expected_co_financing_bilateral_us_m.sum()\n",
    "\n",
    "#Co-financing expected from other sources\n",
    "O = df.groupby(['region']).expected_co_financing_others_us_m.sum()"
   ]
  },
  {
   "cell_type": "code",
   "execution_count": 21,
   "metadata": {},
   "outputs": [
    {
     "data": {
      "text/plain": [
       "<matplotlib.axes._subplots.AxesSubplot at 0xd1893d0>"
      ]
     },
     "execution_count": 21,
     "metadata": {},
     "output_type": "execute_result"
    },
    {
     "data": {
      "image/png": "[encoded data removed]",
      "text/plain": [
       "<Figure size 864x576 with 1 Axes>"
      ]
     },
     "metadata": {
      "needs_background": "light"
     },
     "output_type": "display_data"
    }
   ],
   "source": [
    "#Putting the results in a dataframe and plotting them\n",
    "pd.DataFrame({'Govt':G, \n",
    "              'Private': P, \n",
    "              'MDB1':M, \n",
    "              'Bilateral': B,\n",
    "              'Others': O}).plot(kind = 'bar', \n",
    "                                 figsize = (12,8),\n",
    "                                 title = 'Expected share of financing routes according to region')"
   ]
  },
  {
   "cell_type": "markdown",
   "metadata": {},
   "source": [
    "Comparing the Actual co-financing by respective institutions"
   ]
  },
  {
   "cell_type": "code",
   "execution_count": 22,
   "metadata": {},
   "outputs": [],
   "source": [
    "#Expected co-financing from Government\n",
    "GA = df.groupby(['region']).actual_2015_co_financing_govt_us_m.sum()\n",
    "\n",
    "#Expected co-financing from Private Institutions\n",
    "PA = df.groupby(['region']).actual_2015_co_financing_pvt_us_m.sum()\n",
    "\n",
    "#Expected co-financing from Multilteral development banks\n",
    "MA = df.groupby(['region']).actual_2015_co_financing_mdb1_us_m.sum()\n",
    "\n",
    "#Expected co-financing from Bilateral\n",
    "BA = df.groupby(['region']).actual_2015_co_financing_bilateral_us_m.sum()\n",
    "\n",
    "#Expected co-financing from Other sources\n",
    "OA = df.groupby(['region']).actual_2015_co_financing_others_us_m.sum()"
   ]
  },
  {
   "cell_type": "code",
   "execution_count": 23,
   "metadata": {},
   "outputs": [
    {
     "data": {
      "text/plain": [
       "<matplotlib.axes._subplots.AxesSubplot at 0xd1b3250>"
      ]
     },
     "execution_count": 23,
     "metadata": {},
     "output_type": "execute_result"
    },
    {
     "data": {
      "image/png": "[encoded data removed]",
      "text/plain": [
       "<Figure size 864x432 with 1 Axes>"
      ]
     },
     "metadata": {
      "needs_background": "light"
     },
     "output_type": "display_data"
    }
   ],
   "source": [
    "#Putting the results in a dataframe and plotting them\n",
    "pd.DataFrame({'Govt':GA, \n",
    "              'Private': PA, \n",
    "              'MDB1':MA, \n",
    "              'Bilateral': BA,\n",
    "              'Others': OA}).plot(kind = 'bar', \n",
    "                                 figsize = (12,6),\n",
    "                                 title = 'Expected share of financing routes according to region')"
   ]
  },
  {
   "cell_type": "markdown",
   "metadata": {},
   "source": [
    "Countries with the most CTF Funding"
   ]
  },
  {
   "cell_type": "code",
   "execution_count": 24,
   "metadata": {},
   "outputs": [
    {
     "data": {
      "text/plain": [
       "country\n",
       "India            725\n",
       "Mexico           518\n",
       "South Africa     493\n",
       "MENA-CSP         435\n",
       "Turkey           405\n",
       "Indonesia        375\n",
       "Ukraine          337\n",
       "Chile            192\n",
       "Vietnam          180\n",
       "DPSP-Regional    174\n",
       "Name: ctf_funding_usd, dtype: int64"
      ]
     },
     "execution_count": 24,
     "metadata": {},
     "output_type": "execute_result"
    }
   ],
   "source": [
    "#Grouping by countries and sorting the 10 countries with the most Funding\n",
    "df.groupby(['country'])['ctf_funding_usd'].sum().sort_values(ascending = False).head(10)"
   ]
  },
  {
   "cell_type": "code",
   "execution_count": 25,
   "metadata": {},
   "outputs": [
    {
     "data": {
      "text/plain": [
       "Text(0.5, 1.0, 'Top 10 countries with the most CTF Funding(in USD)')"
      ]
     },
     "execution_count": 25,
     "metadata": {},
     "output_type": "execute_result"
    },
    {
     "data": {
      "image/png": "[encoded data removed]",
      "text/plain": [
       "<Figure size 864x576 with 1 Axes>"
      ]
     },
     "metadata": {
      "needs_background": "light"
     },
     "output_type": "display_data"
    }
   ],
   "source": [
    "#Plotting the above results in the form of a horizontal bar chart\n",
    "df.groupby(['country'])['ctf_funding_usd'].sum().sort_values(ascending = False).head(10).plot(kind = 'barh', figsize = (12,8))\n",
    "plt.xlabel('Amount (in USD)')\n",
    "plt.title('Top 10 countries with the most CTF Funding(in USD)')"
   ]
  },
  {
   "cell_type": "markdown",
   "metadata": {},
   "source": [
    "Countrywise GHG reductions"
   ]
  },
  {
   "cell_type": "code",
   "execution_count": 26,
   "metadata": {},
   "outputs": [
    {
     "data": {
      "text/plain": [
       "country\n",
       "India            18015635\n",
       "Indonesia         9530000\n",
       "Mexico            7120742\n",
       "Turkey            6343371\n",
       "Ukraine           4752683\n",
       "Morocco           4125518\n",
       "South Africa      2216667\n",
       "Philippines       1722262\n",
       "DPSP-Regional     1521000\n",
       "Egypt             1400000\n",
       "Name: expected_ghg_reductions_annual_tco2_yr, dtype: int64"
      ]
     },
     "execution_count": 26,
     "metadata": {},
     "output_type": "execute_result"
    }
   ],
   "source": [
    "#Country wise annual GHG reductions in tonnes of co2 per year \n",
    "GHG = df.groupby(['country'])['expected_ghg_reductions_annual_tco2_yr'].sum().sort_values(ascending = False).head(10)\n",
    "GHG"
   ]
  },
  {
   "cell_type": "code",
   "execution_count": 33,
   "metadata": {},
   "outputs": [
    {
     "data": {
      "text/plain": [
       "Text(0.5, 0, 'tonnes of co2 (tco2)')"
      ]
     },
     "execution_count": 33,
     "metadata": {},
     "output_type": "execute_result"
    },
    {
     "data": {
      "image/png": "[encoded data removed]",
      "text/plain": [
       "<Figure size 864x576 with 1 Axes>"
      ]
     },
     "metadata": {
      "needs_background": "light"
     },
     "output_type": "display_data"
    }
   ],
   "source": [
    "#Plotting the above results\n",
    "GHG.plot(kind = 'barh', figsize = (12,8), title = 'Countries with the most(expected) GHG reductions', color = 'm')\n",
    "plt.xlabel('tonnes of co2 (tco2)')"
   ]
  },
  {
   "cell_type": "markdown",
   "metadata": {},
   "source": [
    "Country wise cumulative ghg reductions annually"
   ]
  },
  {
   "cell_type": "code",
   "execution_count": 28,
   "metadata": {},
   "outputs": [],
   "source": [
    "cum_ghg_red = df.groupby(['country'])['cumulative_ghg_reductions_annual_tco2_yr'].sum().sort_values(ascending = False).head(10)"
   ]
  },
  {
   "cell_type": "code",
   "execution_count": 32,
   "metadata": {},
   "outputs": [
    {
     "data": {
      "text/plain": [
       "Text(0.5, 0, 'tonnes of co2 (tco2)')"
      ]
     },
     "execution_count": 32,
     "metadata": {},
     "output_type": "execute_result"
    },
    {
     "data": {
      "image/png": "[encoded data removed]",
      "text/plain": [
       "<Figure size 864x432 with 1 Axes>"
      ]
     },
     "metadata": {
      "needs_background": "light"
     },
     "output_type": "display_data"
    }
   ],
   "source": [
    "#Plotting the results\n",
    "cum_ghg_red.plot(kind = 'barh', figsize = (12,6), title = 'Cumulative GHG reductions', color = 'y')\n",
    "plt.xlabel('tonnes of co2 (tco2)')"
   ]
  },
  {
   "cell_type": "markdown",
   "metadata": {},
   "source": [
    "Countrywise cumulative co-financing and plotting the results in the form of a horizontal bar chart"
   ]
  },
  {
   "cell_type": "code",
   "execution_count": 31,
   "metadata": {},
   "outputs": [
    {
     "data": {
      "text/plain": [
       "Text(0.5, 0, 'Amount(in USD)')"
      ]
     },
     "execution_count": 31,
     "metadata": {},
     "output_type": "execute_result"
    },
    {
     "data": {
      "image/png": "[encoded data removed]",
      "text/plain": [
       "<Figure size 864x576 with 1 Axes>"
      ]
     },
     "metadata": {
      "needs_background": "light"
     },
     "output_type": "display_data"
    }
   ],
   "source": [
    "Cum_cofinancing = df.groupby(['country'])['cumulative_co_financing_total_us_m'].sum().sort_values(ascending = False).head(10)\n",
    "Cum_cofinancing.plot(kind = 'barh', figsize = (12,8),\n",
    "                     title = 'Top 10 countries with the most cumulative co-financing',\n",
    "                     color = 'r')\n",
    "plt.xlabel('Amount(in USD)')"
   ]
  }
 ],
 "metadata": {
  "kernelspec": {
   "display_name": "Python 3",
   "language": "python",
   "name": "python3"
  },
  "language_info": {
   "codemirror_mode": {
    "name": "ipython",
    "version": 3
   },
   "file_extension": ".py",
   "mimetype": "text/x-python",
   "name": "python",
   "nbconvert_exporter": "python",
   "pygments_lexer": "ipython3",
   "version": "3.7.3"
  }
 },
 "nbformat": 4,
 "nbformat_minor": 2
}
