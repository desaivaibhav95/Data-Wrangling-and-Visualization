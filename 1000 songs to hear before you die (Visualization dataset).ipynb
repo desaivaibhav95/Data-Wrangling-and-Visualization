{
 "cells": [
  {
   "cell_type": "markdown",
   "metadata": {},
   "source": [
    "Installing dependencies and reading in the data from socrata open data website using json api"
   ]
  },
  {
   "cell_type": "code",
   "execution_count": 1,
   "metadata": {},
   "outputs": [
    {
     "data": {
      "text/html": [
       "<div>\n",
       "<style scoped>\n",
       "    .dataframe tbody tr th:only-of-type {\n",
       "        vertical-align: middle;\n",
       "    }\n",
       "\n",
       "    .dataframe tbody tr th {\n",
       "        vertical-align: top;\n",
       "    }\n",
       "\n",
       "    .dataframe thead th {\n",
       "        text-align: right;\n",
       "    }\n",
       "</style>\n",
       "<table border=\"1\" class=\"dataframe\">\n",
       "  <thead>\n",
       "    <tr style=\"text-align: right;\">\n",
       "      <th></th>\n",
       "      <th>artist</th>\n",
       "      <th>spotify_url</th>\n",
       "      <th>theme</th>\n",
       "      <th>title</th>\n",
       "      <th>year</th>\n",
       "    </tr>\n",
       "  </thead>\n",
       "  <tbody>\n",
       "    <tr>\n",
       "      <th>0</th>\n",
       "      <td>ABC</td>\n",
       "      <td>{'url': 'http://open.spotify.com/track/78j3qTB...</td>\n",
       "      <td>Love</td>\n",
       "      <td>The Look of Love</td>\n",
       "      <td>1982</td>\n",
       "    </tr>\n",
       "    <tr>\n",
       "      <th>1</th>\n",
       "      <td>Badly Drawn Boy</td>\n",
       "      <td>{'url': 'http://open.spotify.com/track/2PojSoZ...</td>\n",
       "      <td>Love</td>\n",
       "      <td>The Shining</td>\n",
       "      <td>2000</td>\n",
       "    </tr>\n",
       "    <tr>\n",
       "      <th>2</th>\n",
       "      <td>The Beach Boys</td>\n",
       "      <td>{'url': 'http://open.spotify.com/track/0ObrXLr...</td>\n",
       "      <td>Love</td>\n",
       "      <td>God Only Knows</td>\n",
       "      <td>1966</td>\n",
       "    </tr>\n",
       "    <tr>\n",
       "      <th>3</th>\n",
       "      <td>The Beach Boys</td>\n",
       "      <td>{'url': 'http://open.spotify.com/track/2oF7FZH...</td>\n",
       "      <td>Love</td>\n",
       "      <td>Good Vibrations</td>\n",
       "      <td>1966</td>\n",
       "    </tr>\n",
       "    <tr>\n",
       "      <th>4</th>\n",
       "      <td>The Beach Boys</td>\n",
       "      <td>{'url': 'http://open.spotify.com/track/0cx32rX...</td>\n",
       "      <td>Love</td>\n",
       "      <td>Wouldn’t It Be Nice</td>\n",
       "      <td>1966</td>\n",
       "    </tr>\n",
       "  </tbody>\n",
       "</table>\n",
       "</div>"
      ],
      "text/plain": [
       "            artist                                        spotify_url theme  \\\n",
       "0              ABC  {'url': 'http://open.spotify.com/track/78j3qTB...  Love   \n",
       "1  Badly Drawn Boy  {'url': 'http://open.spotify.com/track/2PojSoZ...  Love   \n",
       "2   The Beach Boys  {'url': 'http://open.spotify.com/track/0ObrXLr...  Love   \n",
       "3   The Beach Boys  {'url': 'http://open.spotify.com/track/2oF7FZH...  Love   \n",
       "4   The Beach Boys  {'url': 'http://open.spotify.com/track/0cx32rX...  Love   \n",
       "\n",
       "                 title  year  \n",
       "0     The Look of Love  1982  \n",
       "1          The Shining  2000  \n",
       "2       God Only Knows  1966  \n",
       "3      Good Vibrations  1966  \n",
       "4  Wouldn’t It Be Nice  1966  "
      ]
     },
     "execution_count": 1,
     "metadata": {},
     "output_type": "execute_result"
    }
   ],
   "source": [
    "import json\n",
    "import pandas as pd\n",
    "df = pd.read_json('https://opendata.socrata.com/resource/ed74-c6ni.json')\n",
    "df.head()"
   ]
  },
  {
   "cell_type": "code",
   "execution_count": 2,
   "metadata": {},
   "outputs": [
    {
     "data": {
      "text/plain": [
       "(994, 5)"
      ]
     },
     "execution_count": 2,
     "metadata": {},
     "output_type": "execute_result"
    }
   ],
   "source": [
    "df.shape"
   ]
  },
  {
   "cell_type": "markdown",
   "metadata": {},
   "source": [
    "# Generating important insights from the data and plotting them using the matplotlib library"
   ]
  },
  {
   "cell_type": "code",
   "execution_count": 3,
   "metadata": {},
   "outputs": [],
   "source": [
    "import matplotlib.pyplot as plt\n",
    "%matplotlib inline"
   ]
  },
  {
   "cell_type": "code",
   "execution_count": 4,
   "metadata": {},
   "outputs": [
    {
     "data": {
      "text/plain": [
       "Bob Dylan             24\n",
       "The Beatles           19\n",
       "David Bowie            9\n",
       "Randy Newman           8\n",
       "The Rolling Stones     8\n",
       "Name: artist, dtype: int64"
      ]
     },
     "execution_count": 4,
     "metadata": {},
     "output_type": "execute_result"
    }
   ],
   "source": [
    "#Finding the top 5 most featured artists in the list\n",
    "df['artist'].value_counts().head()"
   ]
  },
  {
   "cell_type": "code",
   "execution_count": 5,
   "metadata": {},
   "outputs": [
    {
     "data": {
      "text/plain": [
       "<matplotlib.axes._subplots.AxesSubplot at 0xadad770>"
      ]
     },
     "execution_count": 5,
     "metadata": {},
     "output_type": "execute_result"
    },
    {
     "data": {
      "image/png": "[encoded data removed]",
      "text/plain": [
       "<Figure size 720x432 with 1 Axes>"
      ]
     },
     "metadata": {
      "needs_background": "light"
     },
     "output_type": "display_data"
    }
   ],
   "source": [
    "#Plotting the results in form of a bar graph\n",
    "df['artist'].value_counts().head().plot(kind = 'bar', figsize = (10,6), color = ['k','g','b','b','b'])"
   ]
  },
  {
   "cell_type": "markdown",
   "metadata": {},
   "source": [
    "# Analyzing categorically by Artist"
   ]
  },
  {
   "cell_type": "markdown",
   "metadata": {},
   "source": [
    "Creating a sub dataframe named \"Beatles\""
   ]
  },
  {
   "cell_type": "code",
   "execution_count": 6,
   "metadata": {},
   "outputs": [
    {
     "data": {
      "text/html": [
       "<div>\n",
       "<style scoped>\n",
       "    .dataframe tbody tr th:only-of-type {\n",
       "        vertical-align: middle;\n",
       "    }\n",
       "\n",
       "    .dataframe tbody tr th {\n",
       "        vertical-align: top;\n",
       "    }\n",
       "\n",
       "    .dataframe thead th {\n",
       "        text-align: right;\n",
       "    }\n",
       "</style>\n",
       "<table border=\"1\" class=\"dataframe\">\n",
       "  <thead>\n",
       "    <tr style=\"text-align: right;\">\n",
       "      <th></th>\n",
       "      <th>artist</th>\n",
       "      <th>spotify_url</th>\n",
       "      <th>theme</th>\n",
       "      <th>title</th>\n",
       "      <th>year</th>\n",
       "    </tr>\n",
       "  </thead>\n",
       "  <tbody>\n",
       "    <tr>\n",
       "      <th>5</th>\n",
       "      <td>The Beatles</td>\n",
       "      <td>NaN</td>\n",
       "      <td>Love</td>\n",
       "      <td>Eight Days a Week</td>\n",
       "      <td>1964</td>\n",
       "    </tr>\n",
       "    <tr>\n",
       "      <th>6</th>\n",
       "      <td>The Beatles</td>\n",
       "      <td>NaN</td>\n",
       "      <td>Love</td>\n",
       "      <td>Girl</td>\n",
       "      <td>1965</td>\n",
       "    </tr>\n",
       "    <tr>\n",
       "      <th>7</th>\n",
       "      <td>The Beatles</td>\n",
       "      <td>NaN</td>\n",
       "      <td>Love</td>\n",
       "      <td>I Want to Hold Your Hand</td>\n",
       "      <td>1963</td>\n",
       "    </tr>\n",
       "    <tr>\n",
       "      <th>8</th>\n",
       "      <td>The Beatles</td>\n",
       "      <td>NaN</td>\n",
       "      <td>Love</td>\n",
       "      <td>She Loves You</td>\n",
       "      <td>1963</td>\n",
       "    </tr>\n",
       "    <tr>\n",
       "      <th>9</th>\n",
       "      <td>The Beatles</td>\n",
       "      <td>NaN</td>\n",
       "      <td>Love</td>\n",
       "      <td>Something</td>\n",
       "      <td>1969</td>\n",
       "    </tr>\n",
       "    <tr>\n",
       "      <th>10</th>\n",
       "      <td>The Beatles</td>\n",
       "      <td>NaN</td>\n",
       "      <td>Love</td>\n",
       "      <td>With a Little Help from My Friends</td>\n",
       "      <td>1967</td>\n",
       "    </tr>\n",
       "    <tr>\n",
       "      <th>146</th>\n",
       "      <td>The Beatles</td>\n",
       "      <td>NaN</td>\n",
       "      <td>Heartbreak</td>\n",
       "      <td>You’ve Got to Hide Your Love Away</td>\n",
       "      <td>1965</td>\n",
       "    </tr>\n",
       "    <tr>\n",
       "      <th>291</th>\n",
       "      <td>The Beatles</td>\n",
       "      <td>NaN</td>\n",
       "      <td>People and places</td>\n",
       "      <td>Eleanor Rigby</td>\n",
       "      <td>1966</td>\n",
       "    </tr>\n",
       "    <tr>\n",
       "      <th>292</th>\n",
       "      <td>The Beatles</td>\n",
       "      <td>NaN</td>\n",
       "      <td>People and places</td>\n",
       "      <td>Doctor Robert</td>\n",
       "      <td>1966</td>\n",
       "    </tr>\n",
       "    <tr>\n",
       "      <th>293</th>\n",
       "      <td>The Beatles</td>\n",
       "      <td>NaN</td>\n",
       "      <td>People and places</td>\n",
       "      <td>Drive My Car</td>\n",
       "      <td>1965</td>\n",
       "    </tr>\n",
       "    <tr>\n",
       "      <th>294</th>\n",
       "      <td>The Beatles</td>\n",
       "      <td>NaN</td>\n",
       "      <td>People and places</td>\n",
       "      <td>Penny Lane</td>\n",
       "      <td>1967</td>\n",
       "    </tr>\n",
       "    <tr>\n",
       "      <th>295</th>\n",
       "      <td>The Beatles</td>\n",
       "      <td>NaN</td>\n",
       "      <td>People and places</td>\n",
       "      <td>She’s Leaving Home</td>\n",
       "      <td>1967</td>\n",
       "    </tr>\n",
       "    <tr>\n",
       "      <th>296</th>\n",
       "      <td>The Beatles</td>\n",
       "      <td>NaN</td>\n",
       "      <td>People and places</td>\n",
       "      <td>Strawberry Fields Forever</td>\n",
       "      <td>1967</td>\n",
       "    </tr>\n",
       "    <tr>\n",
       "      <th>436</th>\n",
       "      <td>The Beatles</td>\n",
       "      <td>NaN</td>\n",
       "      <td>Sex</td>\n",
       "      <td>Another Girl</td>\n",
       "      <td>1965</td>\n",
       "    </tr>\n",
       "    <tr>\n",
       "      <th>437</th>\n",
       "      <td>The Beatles</td>\n",
       "      <td>NaN</td>\n",
       "      <td>Sex</td>\n",
       "      <td>Norwegian Wood (This  Bird Has Flown)</td>\n",
       "      <td>1965</td>\n",
       "    </tr>\n",
       "    <tr>\n",
       "      <th>568</th>\n",
       "      <td>The Beatles</td>\n",
       "      <td>NaN</td>\n",
       "      <td>Politics and protest</td>\n",
       "      <td>I Am the Walrus</td>\n",
       "      <td>1967</td>\n",
       "    </tr>\n",
       "    <tr>\n",
       "      <th>569</th>\n",
       "      <td>The Beatles</td>\n",
       "      <td>NaN</td>\n",
       "      <td>Politics and protest</td>\n",
       "      <td>Revolution</td>\n",
       "      <td>1968</td>\n",
       "    </tr>\n",
       "    <tr>\n",
       "      <th>707</th>\n",
       "      <td>The Beatles</td>\n",
       "      <td>NaN</td>\n",
       "      <td>Life and death</td>\n",
       "      <td>Yer Blues</td>\n",
       "      <td>1968</td>\n",
       "    </tr>\n",
       "    <tr>\n",
       "      <th>708</th>\n",
       "      <td>The Beatles</td>\n",
       "      <td>NaN</td>\n",
       "      <td>Life and death</td>\n",
       "      <td>Yesterday</td>\n",
       "      <td>1965</td>\n",
       "    </tr>\n",
       "  </tbody>\n",
       "</table>\n",
       "</div>"
      ],
      "text/plain": [
       "          artist spotify_url                 theme  \\\n",
       "5    The Beatles         NaN                  Love   \n",
       "6    The Beatles         NaN                  Love   \n",
       "7    The Beatles         NaN                  Love   \n",
       "8    The Beatles         NaN                  Love   \n",
       "9    The Beatles         NaN                  Love   \n",
       "10   The Beatles         NaN                  Love   \n",
       "146  The Beatles         NaN            Heartbreak   \n",
       "291  The Beatles         NaN     People and places   \n",
       "292  The Beatles         NaN     People and places   \n",
       "293  The Beatles         NaN     People and places   \n",
       "294  The Beatles         NaN     People and places   \n",
       "295  The Beatles         NaN     People and places   \n",
       "296  The Beatles         NaN     People and places   \n",
       "436  The Beatles         NaN                   Sex   \n",
       "437  The Beatles         NaN                   Sex   \n",
       "568  The Beatles         NaN  Politics and protest   \n",
       "569  The Beatles         NaN  Politics and protest   \n",
       "707  The Beatles         NaN        Life and death   \n",
       "708  The Beatles         NaN        Life and death   \n",
       "\n",
       "                                     title  year  \n",
       "5                        Eight Days a Week  1964  \n",
       "6                                     Girl  1965  \n",
       "7                 I Want to Hold Your Hand  1963  \n",
       "8                            She Loves You  1963  \n",
       "9                                Something  1969  \n",
       "10      With a Little Help from My Friends  1967  \n",
       "146      You’ve Got to Hide Your Love Away  1965  \n",
       "291                          Eleanor Rigby  1966  \n",
       "292                          Doctor Robert  1966  \n",
       "293                           Drive My Car  1965  \n",
       "294                             Penny Lane  1967  \n",
       "295                     She’s Leaving Home  1967  \n",
       "296              Strawberry Fields Forever  1967  \n",
       "436                           Another Girl  1965  \n",
       "437  Norwegian Wood (This  Bird Has Flown)  1965  \n",
       "568                        I Am the Walrus  1967  \n",
       "569                             Revolution  1968  \n",
       "707                              Yer Blues  1968  \n",
       "708                              Yesterday  1965  "
      ]
     },
     "execution_count": 6,
     "metadata": {},
     "output_type": "execute_result"
    }
   ],
   "source": [
    "#Forming a sub dataframe for The Beatles from our existing dataframe\n",
    "Beatles = df.loc[df.artist == 'The Beatles', :]\n",
    "Beatles"
   ]
  },
  {
   "cell_type": "markdown",
   "metadata": {},
   "source": [
    "Categorizing the featured songs by 'The Beatles' by theme"
   ]
  },
  {
   "cell_type": "code",
   "execution_count": 7,
   "metadata": {
    "scrolled": true
   },
   "outputs": [
    {
     "data": {
      "text/plain": [
       "theme\n",
       "Heartbreak              1\n",
       "Life and death          2\n",
       "Love                    6\n",
       "People and places       6\n",
       "Politics and protest    2\n",
       "Sex                     2\n",
       "Name: title, dtype: int64"
      ]
     },
     "execution_count": 7,
     "metadata": {},
     "output_type": "execute_result"
    }
   ],
   "source": [
    "#Categorizing by theme using the groupby function\n",
    "Beatles.groupby(['theme'])['title'].count()"
   ]
  },
  {
   "cell_type": "code",
   "execution_count": 8,
   "metadata": {},
   "outputs": [
    {
     "data": {
      "text/plain": [
       "Text(0.5, 1.0, 'The Beatles songs by theme')"
      ]
     },
     "execution_count": 8,
     "metadata": {},
     "output_type": "execute_result"
    },
    {
     "data": {
      "image/png": "[encoded data removed]",
      "text/plain": [
       "<Figure size 720x432 with 1 Axes>"
      ]
     },
     "metadata": {
      "needs_background": "light"
     },
     "output_type": "display_data"
    }
   ],
   "source": [
    "#Plotting the results in form of a bar chart\n",
    "Beatles.groupby(['theme'])['title'].count().plot(kind = 'bar', figsize = (10,6))\n",
    "plt.ylabel('Number of songs')\n",
    "plt.title('The Beatles songs by theme')"
   ]
  },
  {
   "cell_type": "markdown",
   "metadata": {},
   "source": [
    "Creating a sub dataframe BD for Bob Dylan"
   ]
  },
  {
   "cell_type": "code",
   "execution_count": 9,
   "metadata": {},
   "outputs": [
    {
     "data": {
      "text/html": [
       "<div>\n",
       "<style scoped>\n",
       "    .dataframe tbody tr th:only-of-type {\n",
       "        vertical-align: middle;\n",
       "    }\n",
       "\n",
       "    .dataframe tbody tr th {\n",
       "        vertical-align: top;\n",
       "    }\n",
       "\n",
       "    .dataframe thead th {\n",
       "        text-align: right;\n",
       "    }\n",
       "</style>\n",
       "<table border=\"1\" class=\"dataframe\">\n",
       "  <thead>\n",
       "    <tr style=\"text-align: right;\">\n",
       "      <th></th>\n",
       "      <th>artist</th>\n",
       "      <th>spotify_url</th>\n",
       "      <th>theme</th>\n",
       "      <th>title</th>\n",
       "      <th>year</th>\n",
       "    </tr>\n",
       "  </thead>\n",
       "  <tbody>\n",
       "    <tr>\n",
       "      <th>45</th>\n",
       "      <td>Bob Dylan</td>\n",
       "      <td>{'url': 'http://open.spotify.com/track/4OfkpX0...</td>\n",
       "      <td>Love</td>\n",
       "      <td>Girl from the North Country</td>\n",
       "      <td>1963</td>\n",
       "    </tr>\n",
       "    <tr>\n",
       "      <th>46</th>\n",
       "      <td>Bob Dylan</td>\n",
       "      <td>{'url': 'http://open.spotify.com/track/0D0fyyN...</td>\n",
       "      <td>Love</td>\n",
       "      <td>Visions of Johanna</td>\n",
       "      <td>1966</td>\n",
       "    </tr>\n",
       "    <tr>\n",
       "      <th>47</th>\n",
       "      <td>Bob Dylan</td>\n",
       "      <td>{'url': 'http://open.spotify.com/track/6O5MMLd...</td>\n",
       "      <td>Love</td>\n",
       "      <td>Wedding Song</td>\n",
       "      <td>1974</td>\n",
       "    </tr>\n",
       "    <tr>\n",
       "      <th>175</th>\n",
       "      <td>Bob Dylan</td>\n",
       "      <td>{'url': 'http://open.spotify.com/track/0K9nDgw...</td>\n",
       "      <td>Heartbreak</td>\n",
       "      <td>Don’t Think Twice, It’s All Right</td>\n",
       "      <td>1963</td>\n",
       "    </tr>\n",
       "    <tr>\n",
       "      <th>176</th>\n",
       "      <td>Bob Dylan</td>\n",
       "      <td>{'url': 'http://open.spotify.com/track/6M4ch4i...</td>\n",
       "      <td>Heartbreak</td>\n",
       "      <td>Idiot Wind</td>\n",
       "      <td>1975</td>\n",
       "    </tr>\n",
       "    <tr>\n",
       "      <th>177</th>\n",
       "      <td>Bob Dylan</td>\n",
       "      <td>{'url': 'http://open.spotify.com/track/16M0VBf...</td>\n",
       "      <td>Heartbreak</td>\n",
       "      <td>If You See Her, Say Hello</td>\n",
       "      <td>1975</td>\n",
       "    </tr>\n",
       "    <tr>\n",
       "      <th>178</th>\n",
       "      <td>Bob Dylan</td>\n",
       "      <td>{'url': 'http://open.spotify.com/track/6M5KL0L...</td>\n",
       "      <td>Heartbreak</td>\n",
       "      <td>Just Like a Woman</td>\n",
       "      <td>1966</td>\n",
       "    </tr>\n",
       "    <tr>\n",
       "      <th>179</th>\n",
       "      <td>Bob Dylan</td>\n",
       "      <td>{'url': 'http://open.spotify.com/track/0TUtCqk...</td>\n",
       "      <td>Heartbreak</td>\n",
       "      <td>She’s Your Lover Now</td>\n",
       "      <td>1966</td>\n",
       "    </tr>\n",
       "    <tr>\n",
       "      <th>180</th>\n",
       "      <td>Bob Dylan</td>\n",
       "      <td>{'url': 'http://open.spotify.com/track/3fSmfeH...</td>\n",
       "      <td>Heartbreak</td>\n",
       "      <td>Tangled up in Blue</td>\n",
       "      <td>1975</td>\n",
       "    </tr>\n",
       "    <tr>\n",
       "      <th>343</th>\n",
       "      <td>Bob Dylan</td>\n",
       "      <td>{'url': 'http://open.spotify.com/track/3Xbr9Uq...</td>\n",
       "      <td>People and places</td>\n",
       "      <td>Ballad of a Thin Man</td>\n",
       "      <td>1965</td>\n",
       "    </tr>\n",
       "    <tr>\n",
       "      <th>344</th>\n",
       "      <td>Bob Dylan</td>\n",
       "      <td>{'url': 'http://open.spotify.com/track/2HT5jSA...</td>\n",
       "      <td>People and places</td>\n",
       "      <td>Blind Willie McTell</td>\n",
       "      <td>1991</td>\n",
       "    </tr>\n",
       "    <tr>\n",
       "      <th>345</th>\n",
       "      <td>Bob Dylan</td>\n",
       "      <td>{'url': 'http://open.spotify.com/track/4hR2PmK...</td>\n",
       "      <td>People and places</td>\n",
       "      <td>Like a Rolling Stone</td>\n",
       "      <td>1965</td>\n",
       "    </tr>\n",
       "    <tr>\n",
       "      <th>456</th>\n",
       "      <td>Bob Dylan</td>\n",
       "      <td>{'url': 'http://open.spotify.com/track/6hMr51j...</td>\n",
       "      <td>Sex</td>\n",
       "      <td>I Want You</td>\n",
       "      <td>1966</td>\n",
       "    </tr>\n",
       "    <tr>\n",
       "      <th>457</th>\n",
       "      <td>Bob Dylan</td>\n",
       "      <td>{'url': 'http://open.spotify.com/track/6wo0JCf...</td>\n",
       "      <td>Sex</td>\n",
       "      <td>Lay Lady Lay</td>\n",
       "      <td>1969</td>\n",
       "    </tr>\n",
       "    <tr>\n",
       "      <th>598</th>\n",
       "      <td>Bob Dylan</td>\n",
       "      <td>{'url': 'http://open.spotify.com/track/6ZRnk0v...</td>\n",
       "      <td>Politics and protest</td>\n",
       "      <td>Hurricane</td>\n",
       "      <td>1975</td>\n",
       "    </tr>\n",
       "    <tr>\n",
       "      <th>599</th>\n",
       "      <td>Bob Dylan</td>\n",
       "      <td>{'url': 'http://open.spotify.com/track/594Kh8V...</td>\n",
       "      <td>Politics and protest</td>\n",
       "      <td>Maggie’s Farm</td>\n",
       "      <td>1965</td>\n",
       "    </tr>\n",
       "    <tr>\n",
       "      <th>600</th>\n",
       "      <td>Bob Dylan</td>\n",
       "      <td>{'url': 'http://open.spotify.com/track/56inmm0...</td>\n",
       "      <td>Politics and protest</td>\n",
       "      <td>Masters of War</td>\n",
       "      <td>1963</td>\n",
       "    </tr>\n",
       "    <tr>\n",
       "      <th>601</th>\n",
       "      <td>Bob Dylan</td>\n",
       "      <td>{'url': 'http://open.spotify.com/track/2zlP1bR...</td>\n",
       "      <td>Politics and protest</td>\n",
       "      <td>The Times They Are a-Changin’</td>\n",
       "      <td>1964</td>\n",
       "    </tr>\n",
       "    <tr>\n",
       "      <th>602</th>\n",
       "      <td>Bob Dylan</td>\n",
       "      <td>{'url': 'http://open.spotify.com/track/0ILmjZk...</td>\n",
       "      <td>Politics and protest</td>\n",
       "      <td>When the Ship Comes In</td>\n",
       "      <td>1964</td>\n",
       "    </tr>\n",
       "    <tr>\n",
       "      <th>739</th>\n",
       "      <td>Bob Dylan</td>\n",
       "      <td>NaN</td>\n",
       "      <td>Life and death</td>\n",
       "      <td>Death Is Not the End</td>\n",
       "      <td>1988</td>\n",
       "    </tr>\n",
       "    <tr>\n",
       "      <th>740</th>\n",
       "      <td>Bob Dylan</td>\n",
       "      <td>NaN</td>\n",
       "      <td>Life and death</td>\n",
       "      <td>Every Grain of Sand</td>\n",
       "      <td>1981</td>\n",
       "    </tr>\n",
       "    <tr>\n",
       "      <th>741</th>\n",
       "      <td>Bob Dylan</td>\n",
       "      <td>{'url': 'http://open.spotify.com/track/1xOqdmO...</td>\n",
       "      <td>Life and death</td>\n",
       "      <td>Forever Young</td>\n",
       "      <td>1974</td>\n",
       "    </tr>\n",
       "    <tr>\n",
       "      <th>742</th>\n",
       "      <td>Bob Dylan</td>\n",
       "      <td>{'url': 'http://open.spotify.com/track/0BemTX3...</td>\n",
       "      <td>Life and death</td>\n",
       "      <td>Knockin’ On Heaven’s Door</td>\n",
       "      <td>1973</td>\n",
       "    </tr>\n",
       "    <tr>\n",
       "      <th>743</th>\n",
       "      <td>Bob Dylan</td>\n",
       "      <td>NaN</td>\n",
       "      <td>Life and death</td>\n",
       "      <td>The Lonesome Death of Hattie Carroll</td>\n",
       "      <td>1964</td>\n",
       "    </tr>\n",
       "  </tbody>\n",
       "</table>\n",
       "</div>"
      ],
      "text/plain": [
       "        artist                                        spotify_url  \\\n",
       "45   Bob Dylan  {'url': 'http://open.spotify.com/track/4OfkpX0...   \n",
       "46   Bob Dylan  {'url': 'http://open.spotify.com/track/0D0fyyN...   \n",
       "47   Bob Dylan  {'url': 'http://open.spotify.com/track/6O5MMLd...   \n",
       "175  Bob Dylan  {'url': 'http://open.spotify.com/track/0K9nDgw...   \n",
       "176  Bob Dylan  {'url': 'http://open.spotify.com/track/6M4ch4i...   \n",
       "177  Bob Dylan  {'url': 'http://open.spotify.com/track/16M0VBf...   \n",
       "178  Bob Dylan  {'url': 'http://open.spotify.com/track/6M5KL0L...   \n",
       "179  Bob Dylan  {'url': 'http://open.spotify.com/track/0TUtCqk...   \n",
       "180  Bob Dylan  {'url': 'http://open.spotify.com/track/3fSmfeH...   \n",
       "343  Bob Dylan  {'url': 'http://open.spotify.com/track/3Xbr9Uq...   \n",
       "344  Bob Dylan  {'url': 'http://open.spotify.com/track/2HT5jSA...   \n",
       "345  Bob Dylan  {'url': 'http://open.spotify.com/track/4hR2PmK...   \n",
       "456  Bob Dylan  {'url': 'http://open.spotify.com/track/6hMr51j...   \n",
       "457  Bob Dylan  {'url': 'http://open.spotify.com/track/6wo0JCf...   \n",
       "598  Bob Dylan  {'url': 'http://open.spotify.com/track/6ZRnk0v...   \n",
       "599  Bob Dylan  {'url': 'http://open.spotify.com/track/594Kh8V...   \n",
       "600  Bob Dylan  {'url': 'http://open.spotify.com/track/56inmm0...   \n",
       "601  Bob Dylan  {'url': 'http://open.spotify.com/track/2zlP1bR...   \n",
       "602  Bob Dylan  {'url': 'http://open.spotify.com/track/0ILmjZk...   \n",
       "739  Bob Dylan                                                NaN   \n",
       "740  Bob Dylan                                                NaN   \n",
       "741  Bob Dylan  {'url': 'http://open.spotify.com/track/1xOqdmO...   \n",
       "742  Bob Dylan  {'url': 'http://open.spotify.com/track/0BemTX3...   \n",
       "743  Bob Dylan                                                NaN   \n",
       "\n",
       "                    theme                                 title  year  \n",
       "45                   Love          Girl from the North Country   1963  \n",
       "46                   Love                    Visions of Johanna  1966  \n",
       "47                   Love                          Wedding Song  1974  \n",
       "175            Heartbreak     Don’t Think Twice, It’s All Right  1963  \n",
       "176            Heartbreak                            Idiot Wind  1975  \n",
       "177            Heartbreak             If You See Her, Say Hello  1975  \n",
       "178            Heartbreak                     Just Like a Woman  1966  \n",
       "179            Heartbreak                  She’s Your Lover Now  1966  \n",
       "180            Heartbreak                    Tangled up in Blue  1975  \n",
       "343     People and places                  Ballad of a Thin Man  1965  \n",
       "344     People and places                   Blind Willie McTell  1991  \n",
       "345     People and places                  Like a Rolling Stone  1965  \n",
       "456                   Sex                            I Want You  1966  \n",
       "457                   Sex                          Lay Lady Lay  1969  \n",
       "598  Politics and protest                             Hurricane  1975  \n",
       "599  Politics and protest                         Maggie’s Farm  1965  \n",
       "600  Politics and protest                        Masters of War  1963  \n",
       "601  Politics and protest         The Times They Are a-Changin’  1964  \n",
       "602  Politics and protest                When the Ship Comes In  1964  \n",
       "739        Life and death                  Death Is Not the End  1988  \n",
       "740        Life and death                   Every Grain of Sand  1981  \n",
       "741        Life and death                         Forever Young  1974  \n",
       "742        Life and death             Knockin’ On Heaven’s Door  1973  \n",
       "743        Life and death  The Lonesome Death of Hattie Carroll  1964  "
      ]
     },
     "execution_count": 9,
     "metadata": {},
     "output_type": "execute_result"
    }
   ],
   "source": [
    "BD = df.loc[df.artist == 'Bob Dylan', :]\n",
    "BD"
   ]
  },
  {
   "cell_type": "code",
   "execution_count": 10,
   "metadata": {
    "scrolled": true
   },
   "outputs": [
    {
     "data": {
      "text/plain": [
       "theme\n",
       "Heartbreak              6\n",
       "Life and death          5\n",
       "Love                    3\n",
       "People and places       3\n",
       "Politics and protest    5\n",
       "Sex                     2\n",
       "Name: title, dtype: int64"
      ]
     },
     "execution_count": 10,
     "metadata": {},
     "output_type": "execute_result"
    }
   ],
   "source": [
    "#Categorizing by theme using the groupby function\n",
    "BD.groupby(['theme'])['title'].count()"
   ]
  },
  {
   "cell_type": "code",
   "execution_count": 11,
   "metadata": {},
   "outputs": [
    {
     "data": {
      "text/plain": [
       "Text(0.5, 1.0, 'Bob Dylan songs by theme')"
      ]
     },
     "execution_count": 11,
     "metadata": {},
     "output_type": "execute_result"
    },
    {
     "data": {
      "image/png": "[encoded data removed]",
      "text/plain": [
       "<Figure size 720x432 with 1 Axes>"
      ]
     },
     "metadata": {
      "needs_background": "light"
     },
     "output_type": "display_data"
    }
   ],
   "source": [
    "# Plotting the results by means of a bar plot and using the plot function\n",
    "BD.groupby(['theme'])['title'].count().plot(kind = 'bar', figsize = (10,6))\n",
    "plt.ylabel('Number of songs')\n",
    "plt.title('Bob Dylan songs by theme')"
   ]
  },
  {
   "cell_type": "markdown",
   "metadata": {},
   "source": [
    "Creating a subdataframe DB for David Bowie"
   ]
  },
  {
   "cell_type": "code",
   "execution_count": 12,
   "metadata": {},
   "outputs": [
    {
     "data": {
      "text/html": [
       "<div>\n",
       "<style scoped>\n",
       "    .dataframe tbody tr th:only-of-type {\n",
       "        vertical-align: middle;\n",
       "    }\n",
       "\n",
       "    .dataframe tbody tr th {\n",
       "        vertical-align: top;\n",
       "    }\n",
       "\n",
       "    .dataframe thead th {\n",
       "        text-align: right;\n",
       "    }\n",
       "</style>\n",
       "<table border=\"1\" class=\"dataframe\">\n",
       "  <thead>\n",
       "    <tr style=\"text-align: right;\">\n",
       "      <th></th>\n",
       "      <th>artist</th>\n",
       "      <th>spotify_url</th>\n",
       "      <th>theme</th>\n",
       "      <th>title</th>\n",
       "      <th>year</th>\n",
       "    </tr>\n",
       "  </thead>\n",
       "  <tbody>\n",
       "    <tr>\n",
       "      <th>17</th>\n",
       "      <td>David Bowie</td>\n",
       "      <td>{'url': 'http://open.spotify.com/track/1qyRX6x...</td>\n",
       "      <td>Love</td>\n",
       "      <td>Heroes</td>\n",
       "      <td>1977</td>\n",
       "    </tr>\n",
       "    <tr>\n",
       "      <th>18</th>\n",
       "      <td>David Bowie</td>\n",
       "      <td>{'url': 'http://open.spotify.com/track/0PUmT62...</td>\n",
       "      <td>Love</td>\n",
       "      <td>The Wedding Song</td>\n",
       "      <td>1993</td>\n",
       "    </tr>\n",
       "    <tr>\n",
       "      <th>152</th>\n",
       "      <td>David Bowie</td>\n",
       "      <td>{'url': 'http://open.spotify.com/track/13YcDQx...</td>\n",
       "      <td>Heartbreak</td>\n",
       "      <td>Letter to Hermione</td>\n",
       "      <td>1969</td>\n",
       "    </tr>\n",
       "    <tr>\n",
       "      <th>153</th>\n",
       "      <td>David Bowie</td>\n",
       "      <td>{'url': 'http://open.spotify.com/track/6Q4S1KW...</td>\n",
       "      <td>Heartbreak</td>\n",
       "      <td>Repetition</td>\n",
       "      <td>1979</td>\n",
       "    </tr>\n",
       "    <tr>\n",
       "      <th>306</th>\n",
       "      <td>David Bowie</td>\n",
       "      <td>{'url': 'http://open.spotify.com/track/1EdKQ7n...</td>\n",
       "      <td>People and places</td>\n",
       "      <td>Life On Mars?</td>\n",
       "      <td>1971</td>\n",
       "    </tr>\n",
       "    <tr>\n",
       "      <th>307</th>\n",
       "      <td>David Bowie</td>\n",
       "      <td>{'url': 'http://open.spotify.com/track/7IBfmCr...</td>\n",
       "      <td>People and places</td>\n",
       "      <td>Space Oddity</td>\n",
       "      <td>1969</td>\n",
       "    </tr>\n",
       "    <tr>\n",
       "      <th>714</th>\n",
       "      <td>David Bowie</td>\n",
       "      <td>{'url': 'http://open.spotify.com/track/4t1XVKQ...</td>\n",
       "      <td>Life and death</td>\n",
       "      <td>Kooks</td>\n",
       "      <td>1971</td>\n",
       "    </tr>\n",
       "    <tr>\n",
       "      <th>715</th>\n",
       "      <td>David Bowie</td>\n",
       "      <td>NaN</td>\n",
       "      <td>Life and death</td>\n",
       "      <td>Never Get Old</td>\n",
       "      <td>2003</td>\n",
       "    </tr>\n",
       "    <tr>\n",
       "      <th>850</th>\n",
       "      <td>David Bowie</td>\n",
       "      <td>{'url': 'http://open.spotify.com/track/2nIuUXn...</td>\n",
       "      <td>Party songs</td>\n",
       "      <td>Let’s Dance</td>\n",
       "      <td>1983</td>\n",
       "    </tr>\n",
       "  </tbody>\n",
       "</table>\n",
       "</div>"
      ],
      "text/plain": [
       "          artist                                        spotify_url  \\\n",
       "17   David Bowie  {'url': 'http://open.spotify.com/track/1qyRX6x...   \n",
       "18   David Bowie  {'url': 'http://open.spotify.com/track/0PUmT62...   \n",
       "152  David Bowie  {'url': 'http://open.spotify.com/track/13YcDQx...   \n",
       "153  David Bowie  {'url': 'http://open.spotify.com/track/6Q4S1KW...   \n",
       "306  David Bowie  {'url': 'http://open.spotify.com/track/1EdKQ7n...   \n",
       "307  David Bowie  {'url': 'http://open.spotify.com/track/7IBfmCr...   \n",
       "714  David Bowie  {'url': 'http://open.spotify.com/track/4t1XVKQ...   \n",
       "715  David Bowie                                                NaN   \n",
       "850  David Bowie  {'url': 'http://open.spotify.com/track/2nIuUXn...   \n",
       "\n",
       "                 theme               title  year  \n",
       "17                Love              Heroes  1977  \n",
       "18                Love    The Wedding Song  1993  \n",
       "152         Heartbreak  Letter to Hermione  1969  \n",
       "153         Heartbreak          Repetition  1979  \n",
       "306  People and places       Life On Mars?  1971  \n",
       "307  People and places        Space Oddity  1969  \n",
       "714     Life and death               Kooks  1971  \n",
       "715     Life and death       Never Get Old  2003  \n",
       "850        Party songs         Let’s Dance  1983  "
      ]
     },
     "execution_count": 12,
     "metadata": {},
     "output_type": "execute_result"
    }
   ],
   "source": [
    "DB = df.loc[df.artist == 'David Bowie', :]\n",
    "DB"
   ]
  },
  {
   "cell_type": "code",
   "execution_count": 13,
   "metadata": {
    "scrolled": true
   },
   "outputs": [
    {
     "data": {
      "text/plain": [
       "theme\n",
       "Heartbreak           2\n",
       "Life and death       2\n",
       "Love                 2\n",
       "Party songs          1\n",
       "People and places    2\n",
       "Name: title, dtype: int64"
      ]
     },
     "execution_count": 13,
     "metadata": {},
     "output_type": "execute_result"
    }
   ],
   "source": [
    "DB.groupby(['theme'])['title'].count()"
   ]
  },
  {
   "cell_type": "code",
   "execution_count": 14,
   "metadata": {},
   "outputs": [
    {
     "data": {
      "text/plain": [
       "Text(0.5, 1.0, 'David Bowie songs by theme')"
      ]
     },
     "execution_count": 14,
     "metadata": {},
     "output_type": "execute_result"
    },
    {
     "data": {
      "image/png": "[encoded data removed]",
      "text/plain": [
       "<Figure size 720x432 with 1 Axes>"
      ]
     },
     "metadata": {
      "needs_background": "light"
     },
     "output_type": "display_data"
    }
   ],
   "source": [
    "DB.groupby(['theme'])['title'].count().plot(kind = 'bar', figsize = (10,6))\n",
    "plt.ylabel('Number of songs')\n",
    "plt.title('David Bowie songs by theme')"
   ]
  },
  {
   "cell_type": "markdown",
   "metadata": {},
   "source": [
    "# Analysing the data categorically by theme"
   ]
  },
  {
   "cell_type": "code",
   "execution_count": 15,
   "metadata": {},
   "outputs": [
    {
     "data": {
      "text/plain": [
       "theme\n",
       "Heartbreak              145\n",
       "Life and death          131\n",
       "Love                    139\n",
       "Party songs             162\n",
       "People and places       145\n",
       "Politics and protest    141\n",
       "Sex                     131\n",
       "Name: artist, dtype: int64"
      ]
     },
     "execution_count": 15,
     "metadata": {},
     "output_type": "execute_result"
    }
   ],
   "source": [
    "#Grouping by theme of the song and counting the no. of songs in the dataset for each theme\n",
    "df.groupby('theme').artist.count()"
   ]
  },
  {
   "cell_type": "code",
   "execution_count": 16,
   "metadata": {},
   "outputs": [
    {
     "data": {
      "text/plain": [
       "Text(0.5, 1.0, 'No. of songs by theme')"
      ]
     },
     "execution_count": 16,
     "metadata": {},
     "output_type": "execute_result"
    },
    {
     "data": {
      "image/png": "[encoded data removed]",
      "text/plain": [
       "<Figure size 720x432 with 1 Axes>"
      ]
     },
     "metadata": {
      "needs_background": "light"
     },
     "output_type": "display_data"
    }
   ],
   "source": [
    "#Plotting the result in form of a horizontal bar chart after sorting them \n",
    "df.groupby('theme').artist.count().sort_values().plot('barh', figsize = (10,6))\n",
    "plt.xlabel('No. of songs')\n",
    "plt.title('No. of songs by theme')"
   ]
  },
  {
   "cell_type": "code",
   "execution_count": 17,
   "metadata": {},
   "outputs": [
    {
     "data": {
      "text/html": [
       "<div>\n",
       "<style scoped>\n",
       "    .dataframe tbody tr th:only-of-type {\n",
       "        vertical-align: middle;\n",
       "    }\n",
       "\n",
       "    .dataframe tbody tr th {\n",
       "        vertical-align: top;\n",
       "    }\n",
       "\n",
       "    .dataframe thead th {\n",
       "        text-align: right;\n",
       "    }\n",
       "</style>\n",
       "<table border=\"1\" class=\"dataframe\">\n",
       "  <thead>\n",
       "    <tr style=\"text-align: right;\">\n",
       "      <th></th>\n",
       "      <th>artist</th>\n",
       "      <th>spotify_url</th>\n",
       "      <th>theme</th>\n",
       "      <th>title</th>\n",
       "      <th>year</th>\n",
       "    </tr>\n",
       "  </thead>\n",
       "  <tbody>\n",
       "    <tr>\n",
       "      <th>0</th>\n",
       "      <td>ABC</td>\n",
       "      <td>{'url': 'http://open.spotify.com/track/78j3qTB...</td>\n",
       "      <td>Love</td>\n",
       "      <td>The Look of Love</td>\n",
       "      <td>1982</td>\n",
       "    </tr>\n",
       "    <tr>\n",
       "      <th>1</th>\n",
       "      <td>Badly Drawn Boy</td>\n",
       "      <td>{'url': 'http://open.spotify.com/track/2PojSoZ...</td>\n",
       "      <td>Love</td>\n",
       "      <td>The Shining</td>\n",
       "      <td>2000</td>\n",
       "    </tr>\n",
       "    <tr>\n",
       "      <th>2</th>\n",
       "      <td>The Beach Boys</td>\n",
       "      <td>{'url': 'http://open.spotify.com/track/0ObrXLr...</td>\n",
       "      <td>Love</td>\n",
       "      <td>God Only Knows</td>\n",
       "      <td>1966</td>\n",
       "    </tr>\n",
       "    <tr>\n",
       "      <th>3</th>\n",
       "      <td>The Beach Boys</td>\n",
       "      <td>{'url': 'http://open.spotify.com/track/2oF7FZH...</td>\n",
       "      <td>Love</td>\n",
       "      <td>Good Vibrations</td>\n",
       "      <td>1966</td>\n",
       "    </tr>\n",
       "    <tr>\n",
       "      <th>4</th>\n",
       "      <td>The Beach Boys</td>\n",
       "      <td>{'url': 'http://open.spotify.com/track/0cx32rX...</td>\n",
       "      <td>Love</td>\n",
       "      <td>Wouldn’t It Be Nice</td>\n",
       "      <td>1966</td>\n",
       "    </tr>\n",
       "  </tbody>\n",
       "</table>\n",
       "</div>"
      ],
      "text/plain": [
       "            artist                                        spotify_url theme  \\\n",
       "0              ABC  {'url': 'http://open.spotify.com/track/78j3qTB...  Love   \n",
       "1  Badly Drawn Boy  {'url': 'http://open.spotify.com/track/2PojSoZ...  Love   \n",
       "2   The Beach Boys  {'url': 'http://open.spotify.com/track/0ObrXLr...  Love   \n",
       "3   The Beach Boys  {'url': 'http://open.spotify.com/track/2oF7FZH...  Love   \n",
       "4   The Beach Boys  {'url': 'http://open.spotify.com/track/0cx32rX...  Love   \n",
       "\n",
       "                 title  year  \n",
       "0     The Look of Love  1982  \n",
       "1          The Shining  2000  \n",
       "2       God Only Knows  1966  \n",
       "3      Good Vibrations  1966  \n",
       "4  Wouldn’t It Be Nice  1966  "
      ]
     },
     "execution_count": 17,
     "metadata": {},
     "output_type": "execute_result"
    }
   ],
   "source": [
    "#Create a subdataframe \"Love\" fom the actual dataframe\n",
    "Love = df.loc[df.theme == 'Love', :]\n",
    "Love.head()"
   ]
  },
  {
   "cell_type": "markdown",
   "metadata": {},
   "source": [
    "The top five artists under the theme \"Love\""
   ]
  },
  {
   "cell_type": "code",
   "execution_count": 18,
   "metadata": {},
   "outputs": [
    {
     "data": {
      "text/plain": [
       "artist\n",
       "The Beatles       6\n",
       "Kate Bush         3\n",
       "The Beach Boys    3\n",
       "Al Green          3\n",
       "Frank Sinatra     3\n",
       "Name: title, dtype: int64"
      ]
     },
     "execution_count": 18,
     "metadata": {},
     "output_type": "execute_result"
    }
   ],
   "source": [
    "#grouping by artists and applying the count method and sorting them in descending order\n",
    "Love.groupby(['artist'])['title'].count().sort_values(ascending = False).head()"
   ]
  },
  {
   "cell_type": "code",
   "execution_count": 19,
   "metadata": {},
   "outputs": [
    {
     "data": {
      "text/plain": [
       "<matplotlib.axes._subplots.AxesSubplot at 0xc7c92b0>"
      ]
     },
     "execution_count": 19,
     "metadata": {},
     "output_type": "execute_result"
    },
    {
     "data": {
      "image/png": "[encoded data removed]",
      "text/plain": [
       "<Figure size 432x288 with 1 Axes>"
      ]
     },
     "metadata": {
      "needs_background": "light"
     },
     "output_type": "display_data"
    }
   ],
   "source": [
    "Love.set_index('year')\n",
    "Love.groupby(['year'])['artist'].count().sort_values(ascending = False).head().plot(kind = 'bar', \n",
    "                                                                                    color = ['r','b','g','y','c'])"
   ]
  },
  {
   "cell_type": "markdown",
   "metadata": {},
   "source": [
    "Create a subdataframe \"Party\" fom the actual dataframe"
   ]
  },
  {
   "cell_type": "code",
   "execution_count": 20,
   "metadata": {},
   "outputs": [
    {
     "data": {
      "text/html": [
       "<div>\n",
       "<style scoped>\n",
       "    .dataframe tbody tr th:only-of-type {\n",
       "        vertical-align: middle;\n",
       "    }\n",
       "\n",
       "    .dataframe tbody tr th {\n",
       "        vertical-align: top;\n",
       "    }\n",
       "\n",
       "    .dataframe thead th {\n",
       "        text-align: right;\n",
       "    }\n",
       "</style>\n",
       "<table border=\"1\" class=\"dataframe\">\n",
       "  <thead>\n",
       "    <tr style=\"text-align: right;\">\n",
       "      <th></th>\n",
       "      <th>artist</th>\n",
       "      <th>spotify_url</th>\n",
       "      <th>theme</th>\n",
       "      <th>title</th>\n",
       "      <th>year</th>\n",
       "    </tr>\n",
       "  </thead>\n",
       "  <tbody>\n",
       "    <tr>\n",
       "      <th>832</th>\n",
       "      <td>808 State</td>\n",
       "      <td>NaN</td>\n",
       "      <td>Party songs</td>\n",
       "      <td>Pacific State</td>\n",
       "      <td>1989</td>\n",
       "    </tr>\n",
       "    <tr>\n",
       "      <th>833</th>\n",
       "      <td>Abba</td>\n",
       "      <td>{'url': 'http://open.spotify.com/track/2rgqPSI...</td>\n",
       "      <td>Party songs</td>\n",
       "      <td>Dancing Queen</td>\n",
       "      <td>1976</td>\n",
       "    </tr>\n",
       "    <tr>\n",
       "      <th>834</th>\n",
       "      <td>AC/DC</td>\n",
       "      <td>NaN</td>\n",
       "      <td>Party songs</td>\n",
       "      <td>Back in Black</td>\n",
       "      <td>1980</td>\n",
       "    </tr>\n",
       "    <tr>\n",
       "      <th>835</th>\n",
       "      <td>Afroman</td>\n",
       "      <td>{'url': 'http://open.spotify.com/track/5ztUVSE...</td>\n",
       "      <td>Party songs</td>\n",
       "      <td>Because I Got High</td>\n",
       "      <td>2001</td>\n",
       "    </tr>\n",
       "    <tr>\n",
       "      <th>836</th>\n",
       "      <td>Althea and Donna</td>\n",
       "      <td>{'url': 'http://open.spotify.com/track/34zWZOS...</td>\n",
       "      <td>Party songs</td>\n",
       "      <td>Uptown Top Ranking</td>\n",
       "      <td>1977</td>\n",
       "    </tr>\n",
       "  </tbody>\n",
       "</table>\n",
       "</div>"
      ],
      "text/plain": [
       "               artist                                        spotify_url  \\\n",
       "832         808 State                                                NaN   \n",
       "833              Abba  {'url': 'http://open.spotify.com/track/2rgqPSI...   \n",
       "834             AC/DC                                                NaN   \n",
       "835           Afroman  {'url': 'http://open.spotify.com/track/5ztUVSE...   \n",
       "836  Althea and Donna  {'url': 'http://open.spotify.com/track/34zWZOS...   \n",
       "\n",
       "           theme               title  year  \n",
       "832  Party songs       Pacific State  1989  \n",
       "833  Party songs       Dancing Queen  1976  \n",
       "834  Party songs       Back in Black  1980  \n",
       "835  Party songs  Because I Got High  2001  \n",
       "836  Party songs  Uptown Top Ranking  1977  "
      ]
     },
     "execution_count": 20,
     "metadata": {},
     "output_type": "execute_result"
    }
   ],
   "source": [
    "Party = df.loc[df.theme == 'Party songs', :]\n",
    "Party.head()"
   ]
  },
  {
   "cell_type": "markdown",
   "metadata": {},
   "source": [
    "The top five artists featured in the Party songs theme"
   ]
  },
  {
   "cell_type": "code",
   "execution_count": 21,
   "metadata": {},
   "outputs": [
    {
     "data": {
      "text/plain": [
       "artist\n",
       "Madonna            3\n",
       "Sister Sledge      2\n",
       "Grace Jones        2\n",
       "Prince             2\n",
       "Michael Jackson    2\n",
       "Name: title, dtype: int64"
      ]
     },
     "execution_count": 21,
     "metadata": {},
     "output_type": "execute_result"
    }
   ],
   "source": [
    "#Grouping the party subdataframe by 'artist' and using the count method and sorting them in descending order \n",
    "Party.groupby(['artist'])['title'].count().sort_values(ascending = False).head()"
   ]
  },
  {
   "cell_type": "code",
   "execution_count": 22,
   "metadata": {},
   "outputs": [
    {
     "data": {
      "text/plain": [
       "<matplotlib.axes._subplots.AxesSubplot at 0xc807190>"
      ]
     },
     "execution_count": 22,
     "metadata": {},
     "output_type": "execute_result"
    },
    {
     "data": {
      "image/png": "[encoded data removed]",
      "text/plain": [
       "<Figure size 432x288 with 1 Axes>"
      ]
     },
     "metadata": {
      "needs_background": "light"
     },
     "output_type": "display_data"
    }
   ],
   "source": [
    "Party.set_index('year')\n",
    "Party.groupby(['year'])['artist'].count().sort_values(ascending = False).head().plot(kind = 'bar', \n",
    "                                                                                    color = ['r','b','g','k','c'])"
   ]
  }
 ],
 "metadata": {
  "kernelspec": {
   "display_name": "Python 3",
   "language": "python",
   "name": "python3"
  },
  "language_info": {
   "codemirror_mode": {
    "name": "ipython",
    "version": 3
   },
   "file_extension": ".py",
   "mimetype": "text/x-python",
   "name": "python",
   "nbconvert_exporter": "python",
   "pygments_lexer": "ipython3",
   "version": "3.7.3"
  }
 },
 "nbformat": 4,
 "nbformat_minor": 2
}
